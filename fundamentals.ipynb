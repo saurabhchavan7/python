{
 "cells": [
  {
   "cell_type": "markdown",
   "id": "f804138a-97be-4d13-828b-c8710304663c",
   "metadata": {},
   "source": [
    "### Python Output\n",
    "\n",
    "- We will print \"Hello, World!\"\n",
    "- In Python, we have built-in functions.\n",
    "- Built-in means that the function is included in Python.\n",
    "- A function can be considered a tool where you pass an input (i/p) on one side, and you get an output (o/p) on the other side.\n",
    "- In Python, there are many functions.\n",
    "- How to identify a function:\n",
    "  - If anything is written in this format: `X()`, where `X` can be any name, and brackets `()` follow it, it's a function.\n",
    "  - Inside the brackets, we give input, and when we run it, we get the output.\n",
    "- We will now see the `print` function.\n",
    "  - **Note:** Python is a case-sensitive language, so `print` and `Print` are different.\n",
    "- Inverted commas are a way to tell Python that the input is a string or text.\n",
    "  - If it's a number, we can print it without inverted commas.\n",
    "- So basically, all data types in Python can be put in the `print` function and printed.\n",
    "- The `print` function can print everything separated by spaces.\n"
   ]
  },
  {
   "cell_type": "code",
   "execution_count": 1,
   "id": "7f4c4747-0b1f-4ba1-b52c-5c39b89687a0",
   "metadata": {},
   "outputs": [
    {
     "name": "stdout",
     "output_type": "stream",
     "text": [
      "hello world\n"
     ]
    }
   ],
   "source": [
    "print('hello world')"
   ]
  },
  {
   "cell_type": "code",
   "execution_count": null,
   "id": "b415e2ce-3d38-4fbe-bdae-13de6eb9fb12",
   "metadata": {},
   "outputs": [
    {
     "name": "stdout",
     "output_type": "stream",
     "text": [
      "17\n"
     ]
    }
   ],
   "source": [
    "print(17)"
   ]
  },
  {
   "cell_type": "code",
   "execution_count": 5,
   "id": "a446e408-6604-4102-861b-0603d0441eff",
   "metadata": {},
   "outputs": [
    {
     "ename": "NameError",
     "evalue": "name 'true' is not defined",
     "output_type": "error",
     "traceback": [
      "\u001b[1;31m---------------------------------------------------------------------------\u001b[0m",
      "\u001b[1;31mNameError\u001b[0m                                 Traceback (most recent call last)",
      "Cell \u001b[1;32mIn[5], line 1\u001b[0m\n\u001b[1;32m----> 1\u001b[0m \u001b[38;5;28mprint\u001b[39m(\u001b[38;5;124m'\u001b[39m\u001b[38;5;124mcourse\u001b[39m\u001b[38;5;124m'\u001b[39m,\u001b[38;5;241m7100\u001b[39m,\u001b[43mtrue\u001b[49m)\n",
      "\u001b[1;31mNameError\u001b[0m: name 'true' is not defined"
     ]
    }
   ],
   "source": [
    "print('course',7100,true)"
   ]
  },
  {
   "cell_type": "code",
   "execution_count": 6,
   "id": "2367954b-394f-44a6-8743-e933f25d106c",
   "metadata": {},
   "outputs": [
    {
     "name": "stdout",
     "output_type": "stream",
     "text": [
      "course 7100 True\n"
     ]
    }
   ],
   "source": [
    "print('course',7100,True)"
   ]
  },
  {
   "cell_type": "code",
   "execution_count": 7,
   "id": "27d6f39c-3b98-4ecb-aaef-0ce034198c3c",
   "metadata": {},
   "outputs": [
    {
     "name": "stdout",
     "output_type": "stream",
     "text": [
      "course,7100,True\n"
     ]
    }
   ],
   "source": [
    "print('course',7100,True,sep=',')"
   ]
  },
  {
   "cell_type": "code",
   "execution_count": 9,
   "id": "05be25d9-4d79-46ad-bba3-c8fa8612502c",
   "metadata": {},
   "outputs": [
    {
     "name": "stdout",
     "output_type": "stream",
     "text": [
      "hello\n",
      "world\n"
     ]
    }
   ],
   "source": [
    "print('hello')\n",
    "print('world')"
   ]
  },
  {
   "cell_type": "markdown",
   "id": "873a106f-2935-4e2a-b12f-2ceba8aabd09",
   "metadata": {},
   "source": [
    "- By default, the `print` function moves to the next line after printing since the default `end='\\n'` (newline character).\n",
    "- We can change this behavior by modifying the `end` parameter.\n",
    "- Let's change the `end` parameter to a hyphen (`-`).\n"
   ]
  },
  {
   "cell_type": "code",
   "execution_count": 11,
   "id": "642056f7-57ec-4e9c-b473-4584f41979c0",
   "metadata": {},
   "outputs": [
    {
     "name": "stdout",
     "output_type": "stream",
     "text": [
      "hello-world\n"
     ]
    }
   ],
   "source": [
    "print('hello', end='-')\n",
    "print('world')"
   ]
  },
  {
   "cell_type": "markdown",
   "id": "616bd383-bcca-4b50-b3e9-149d3410d952",
   "metadata": {},
   "source": [
    "### Data Types\n",
    "\n",
    "- All programming languages have data types.\n",
    "- Data types define the kinds of data a programming language can handle.\n",
    "\n",
    "#### Python Data Types\n",
    "\n",
    "1. **Integer**:\n",
    "   - Python handles integer data types by default.\n",
    "   - It can handle very large numbers.\n",
    "\n",
    "2. **Float/Decimal**:\n",
    "   - Used to represent decimal numbers.\n",
    "\n",
    "3. **Boolean**:\n",
    "   - Represents `True` or `False` values.\n",
    "\n",
    "4. **Text/String**:\n",
    "   - Used for representing text.\n",
    "   - Strings are written inside single or double quotes.\n",
    "\n",
    "5. **List**:\n",
    "   - In C, this is called an array.\n",
    "   - Written in square brackets, with items separated by commas.\n",
    "\n",
    "6. **Tuple**:\n",
    "   - Similar to a list but uses parentheses instead of square brackets.\n",
    "\n",
    "7. **Sets**:\n",
    "   - Written in curly brackets.\n",
    "   - A collection of unique elements.\n",
    "\n",
    "8. **Dictionary**:\n",
    "   - A powerful data type in Python.\n",
    "   - Stores data in key-value pairs.\n",
    "   - Dictionaries are written inside curly brackets.\n",
    "\n",
    "9. **`type()` Function**:\n",
    "   - Pass any data type to the `type()` function, and it will return the data type of the input.\n"
   ]
  },
  {
   "cell_type": "code",
   "execution_count": 13,
   "id": "4610f739-3a83-4f9f-ac09-3f5e7dac812a",
   "metadata": {},
   "outputs": [
    {
     "name": "stdout",
     "output_type": "stream",
     "text": [
      "8\n",
      "1e+308\n"
     ]
    }
   ],
   "source": [
    "# integer\n",
    "print(8)\n",
    "# python can hangle upto 1*10^308\n",
    "print(1e308)"
   ]
  },
  {
   "cell_type": "code",
   "execution_count": 15,
   "id": "efd60766-247d-4a26-9d00-3c55fd08bd94",
   "metadata": {},
   "outputs": [
    {
     "name": "stdout",
     "output_type": "stream",
     "text": [
      "inf\n"
     ]
    }
   ],
   "source": [
    "print(1e309)"
   ]
  },
  {
   "cell_type": "code",
   "execution_count": 17,
   "id": "d0cd954c-4f7b-4c19-92c6-250f4bd7ade3",
   "metadata": {},
   "outputs": [
    {
     "name": "stdout",
     "output_type": "stream",
     "text": [
      "8.55\n",
      "1.7e+308\n"
     ]
    }
   ],
   "source": [
    "# decimal/float\n",
    "print(8.55)\n",
    "print(1.7e308)# max float it can handle"
   ]
  },
  {
   "cell_type": "code",
   "execution_count": 18,
   "id": "98291b84-d9a6-4633-9cc6-ed4587c48034",
   "metadata": {},
   "outputs": [
    {
     "name": "stdout",
     "output_type": "stream",
     "text": [
      "True\n",
      "False\n"
     ]
    }
   ],
   "source": [
    "# boolean \n",
    "print(True)\n",
    "print(False)"
   ]
  },
  {
   "cell_type": "code",
   "execution_count": 22,
   "id": "8296c749-487d-48eb-985c-af9633f5fcaa",
   "metadata": {},
   "outputs": [
    {
     "name": "stdout",
     "output_type": "stream",
     "text": [
      "pythn\n"
     ]
    }
   ],
   "source": [
    "# text/ string\n",
    "print('pythn')"
   ]
  },
  {
   "cell_type": "code",
   "execution_count": 24,
   "id": "773f8f6b-227b-4289-b3ca-c8a753cd3cba",
   "metadata": {},
   "outputs": [
    {
     "name": "stdout",
     "output_type": "stream",
     "text": [
      "[1, 27, 9]\n"
     ]
    }
   ],
   "source": [
    "# list \n",
    "print([1,27,9])"
   ]
  },
  {
   "cell_type": "code",
   "execution_count": 26,
   "id": "c4a17dec-bc4f-4d62-a16f-320da0514ef6",
   "metadata": {},
   "outputs": [
    {
     "name": "stdout",
     "output_type": "stream",
     "text": [
      "(1, 2, 3, 4, 5)\n"
     ]
    }
   ],
   "source": [
    "# tuple\n",
    "print((1,2,3,4,5))"
   ]
  },
  {
   "cell_type": "code",
   "execution_count": 27,
   "id": "dab3b4a5-d95b-4bdc-bc3c-a5f56f40a00e",
   "metadata": {},
   "outputs": [
    {
     "name": "stdout",
     "output_type": "stream",
     "text": [
      "{1, 2, 5}\n"
     ]
    }
   ],
   "source": [
    "# sets\n",
    "print({1,5,1,2})"
   ]
  },
  {
   "cell_type": "code",
   "execution_count": 31,
   "id": "459c2001-ec85-4645-b13f-ebb2aead79eb",
   "metadata": {},
   "outputs": [
    {
     "name": "stdout",
     "output_type": "stream",
     "text": [
      "{'course': 'pythn', 'no': '17', 'stud': '7'}\n"
     ]
    }
   ],
   "source": [
    "# dicitionary\n",
    "print({'course':'pythn','no':'17','stud':'7'})"
   ]
  },
  {
   "cell_type": "code",
   "execution_count": 35,
   "id": "ba90cf2f-d679-4f8d-b6b6-af7721afa0ca",
   "metadata": {},
   "outputs": [
    {
     "data": {
      "text/plain": [
       "int"
      ]
     },
     "execution_count": 35,
     "metadata": {},
     "output_type": "execute_result"
    }
   ],
   "source": [
    "# type\n",
    "type(2)\n"
   ]
  },
  {
   "cell_type": "code",
   "execution_count": 34,
   "id": "3f967c67-9705-4e62-a9c9-9e97f0d4ec83",
   "metadata": {},
   "outputs": [
    {
     "data": {
      "text/plain": [
       "str"
      ]
     },
     "execution_count": 34,
     "metadata": {},
     "output_type": "execute_result"
    }
   ],
   "source": [
    "type(\"pythn\")"
   ]
  },
  {
   "cell_type": "markdown",
   "id": "fd62b4e7-f7dc-4917-a5c1-003ec56345ba",
   "metadata": {},
   "source": [
    "### Variables\n",
    "\n",
    "- Variables are containers used to store information for future use.\n",
    "- In languages like C/C++, you need to specify the data type when declaring a variable.\n",
    "- Python, however, is intelligent enough to detect the data type automatically when you assign a value to a variable.\n"
   ]
  },
  {
   "cell_type": "code",
   "execution_count": 36,
   "id": "9ccc3cfa-3e1a-46a7-9bf3-8abdbc94e065",
   "metadata": {},
   "outputs": [
    {
     "name": "stdout",
     "output_type": "stream",
     "text": [
      "saurabh\n"
     ]
    }
   ],
   "source": [
    "name = 'saurabh'\n",
    "print(name)"
   ]
  },
  {
   "cell_type": "markdown",
   "id": "eed04de4-3d6e-484a-b94b-979245ecd705",
   "metadata": {},
   "source": [
    "### Dynamic Typing in Python\n",
    "- In languages like C/C++, we specify the data type while creating a variable.\n",
    "- In Python, we don't need to specify the data type, and this technique is called **dynamic typing**.\n",
    "- The Python interpreter automatically understands the data type, for example, if the value is `5`, it recognizes it as an integer.\n",
    "\n",
    "### Static Typing\n",
    "- In static typing, we explicitly specify the data type.\n",
    "- Example: `int a = 7` in C/C++.\n",
    "\n",
    "### What is Dynamic Binding?\n",
    "- Python supports **dynamic binding**, whereas C/C++ supports **static binding**.\n",
    "  - In static binding, once a data type is assigned to a variable (e.g., `int`), only values of that data type (integers in this case) can be stored in the variable.\n",
    "  - In Python, a variable can hold any kind of data type within the same program.\n"
   ]
  },
  {
   "cell_type": "code",
   "execution_count": 37,
   "id": "d753b247-b3f5-457a-9b0c-ad2d55838d63",
   "metadata": {},
   "outputs": [
    {
     "name": "stdout",
     "output_type": "stream",
     "text": [
      "5\n",
      "saurabh\n"
     ]
    }
   ],
   "source": [
    "a = 5\n",
    "print(a)\n",
    "a='saurabh'\n",
    "print(a)"
   ]
  },
  {
   "cell_type": "code",
   "execution_count": 38,
   "id": "35be0bc7-9585-4d58-a902-330befbad92c",
   "metadata": {},
   "outputs": [
    {
     "name": "stdout",
     "output_type": "stream",
     "text": [
      "1 2 3\n"
     ]
    }
   ],
   "source": [
    "a=1\n",
    "b=2\n",
    "c=3\n",
    "print(a,b,c)"
   ]
  },
  {
   "cell_type": "code",
   "execution_count": 39,
   "id": "de51c238-3291-4e8a-a260-454266b60300",
   "metadata": {},
   "outputs": [
    {
     "name": "stdout",
     "output_type": "stream",
     "text": [
      "1 2 3\n"
     ]
    }
   ],
   "source": [
    "a,b,c=1,2,3\n",
    "print(a,b,c)"
   ]
  },
  {
   "cell_type": "code",
   "execution_count": 41,
   "id": "14f4f1ca-0c2c-4346-9522-a7aab9c9feee",
   "metadata": {},
   "outputs": [
    {
     "name": "stdout",
     "output_type": "stream",
     "text": [
      "7 7 7\n"
     ]
    }
   ],
   "source": [
    "a=b=c=7\n",
    "print(a,b,c)"
   ]
  },
  {
   "attachments": {
    "9d5f7411-224d-45c8-833a-86e8a6824259.png": {
     "image/png": "[encoded data removed]"
    }
   },
   "cell_type": "markdown",
   "id": "3c92130e-3091-426d-b615-f0784654bbfb",
   "metadata": {},
   "source": [
    "### Keywords and Identifiers\n",
    "\n",
    "#### Keywords\n",
    "- **Compilation** is the process of converting code into binary language.\n",
    "- A machine, essentially a chip (e.g., i3/i5), understands only binary numbers (`1` and `0`), which represent power on and off states.\n",
    "- Conversion from English-like code to binary is done through **compilation**.\n",
    "- **Compilation** can be done by a **compiler** (e.g., Java, C, C++ compile the entire program at once into `0`s and `1`s) or an **interpreter** (e.g., Python, PHP convert the code to binary line by line).\n",
    "- Compilers and interpreters use **keywords** to understand the programmer's intent.\n",
    "  - For example, the word `print` helps the compiler/interpreter understand that the programmer wants to print something.\n",
    "  - Similarly, `if` and `else` help in creating branching logic.\n",
    "- These special words are reserved by the compiler or interpreter for their own use, and they are called **keywords**.\n",
    "- Python has 32 keywords.\n",
    "  - ![image.png](attachment:9d5f7411-224d-45c8-833a-86e8a6824259.png)\n",
    "- Since these words are reserved by the compiler, programmers should not use them as variable names in their programs.\n",
    "\n",
    "#### Identifiers\n",
    "- **Identifiers** are names given by programmers within a program.\n",
    "  - For example, when you create a variable, the name you give it is an identifier.\n",
    "  - Creating a function? The function's name is an identifier.\n",
    "  - When you create a class, the name of the class is also an identifier.\n",
    "- **Rules for writing identifiers**:\n",
    "  1. Identifiers cannot start with a digit, but they can end with one.\n",
    "  2. In special characters, only the underscore (`_`) can be used.\n",
    "  3. Identifiers cannot be keywords.\n"
   ]
  },
  {
   "cell_type": "markdown",
   "id": "558738b9-9c2a-4318-8d87-bafa253a4d66",
   "metadata": {},
   "source": [
    "### User Input\n",
    "\n",
    "Software can be broadly classified into two categories based on user interaction:\n",
    "\n",
    "#### Static Software\n",
    "- **Static software** doesn't interact with the user.\n",
    "- Examples: Calendar, clock, etc., where we simply observe the time or date without any user input.\n",
    "\n",
    "#### Dynamic Software\n",
    "- **Dynamic software** interacts with the user, allowing them to provide input.\n",
    "- Examples: Uber, DoorDash, where users provide input like location, food order, etc.\n",
    "\n",
    "To handle user input in Python, we use the built-in `input()` function.\n"
   ]
  },
  {
   "cell_type": "code",
   "execution_count": 42,
   "id": "10224dde-78c8-44f0-bc05-72ae8a38a9bf",
   "metadata": {},
   "outputs": [
    {
     "name": "stdin",
     "output_type": "stream",
     "text": [
      " give input\n"
     ]
    },
    {
     "data": {
      "text/plain": [
       "'give input'"
      ]
     },
     "execution_count": 42,
     "metadata": {},
     "output_type": "execute_result"
    }
   ],
   "source": [
    "input()"
   ]
  },
  {
   "cell_type": "code",
   "execution_count": 45,
   "id": "60c4d59d-31d3-43f9-be2a-88f668126132",
   "metadata": {},
   "outputs": [
    {
     "name": "stdin",
     "output_type": "stream",
     "text": [
      "enter name: pythn\n"
     ]
    },
    {
     "data": {
      "text/plain": [
       "'pythn'"
      ]
     },
     "execution_count": 45,
     "metadata": {},
     "output_type": "execute_result"
    }
   ],
   "source": [
    "input('enter name:')"
   ]
  },
  {
   "cell_type": "markdown",
   "id": "7ac47466-3af9-418b-8539-dbc5f297a82c",
   "metadata": {},
   "source": [
    "q: take 2 no from user add and print result"
   ]
  },
  {
   "cell_type": "code",
   "execution_count": 53,
   "id": "767ef4b5-621a-4ae1-bcea-a04c3ea515e7",
   "metadata": {},
   "outputs": [
    {
     "name": "stdin",
     "output_type": "stream",
     "text": [
      "no 1: 7\n",
      "no 2: 7\n"
     ]
    },
    {
     "name": "stdout",
     "output_type": "stream",
     "text": [
      "77\n"
     ]
    }
   ],
   "source": [
    "# take input from user and store in  variable\n",
    "a=input('no 1:')\n",
    "b=input('no 2:')\n",
    "\n",
    "# add 2 variables\n",
    "\n",
    "c = a+b\n",
    "\n",
    "print(c)"
   ]
  },
  {
   "cell_type": "markdown",
   "id": "790cb04c-a342-4f8d-9267-74712a0a9811",
   "metadata": {},
   "source": [
    "- The answer we got is **77**.\n",
    "- The reason for this is that the number we took from the user was stored as a string.\n",
    "- Python stores user input as a string because the string is a universal format.\n",
    "- Different data types can be stored as strings, but the reverse is not always true. For example, we can store an integer like `4` in a string, but we cannot store a string in an integer format.\n",
    "- The creators of Python designed it this way because a user might input data of any type. To prevent the program from crashing, Python stores input as a string, the universal format.\n",
    "- The solution to this is **type conversion**.\n"
   ]
  },
  {
   "cell_type": "markdown",
   "id": "98c0e00e-c591-41c2-b048-313f231ed792",
   "metadata": {},
   "source": [
    "### Type Conversion\n",
    "**Implicit vs Explicit**\n",
    "\n",
    "- **Implicit Type Conversion**: This is where the interpreter automatically converts one data type to another behind the scenes. You don't need to do anything; Python handles it for you.\n",
    "- **Explicit Type Conversion**: Here, you as the programmer manually convert a data type to another using functions like `int()`, `float()`, `str()`, etc.\n"
   ]
  },
  {
   "cell_type": "code",
   "execution_count": 54,
   "id": "17494542-8484-4296-852f-ede48efda088",
   "metadata": {},
   "outputs": [
    {
     "name": "stdout",
     "output_type": "stream",
     "text": [
      "14.7\n",
      "<class 'int'> <class 'float'>\n"
     ]
    }
   ],
   "source": [
    "# implicit type conversion\n",
    "\n",
    "print(7 + 7.7)\n",
    "print(type(7),type(7.7))"
   ]
  },
  {
   "cell_type": "code",
   "execution_count": 55,
   "id": "4d3567c0-3ffc-4969-a9af-50040effb838",
   "metadata": {},
   "outputs": [
    {
     "ename": "TypeError",
     "evalue": "unsupported operand type(s) for +: 'int' and 'str'",
     "output_type": "error",
     "traceback": [
      "\u001b[1;31m---------------------------------------------------------------------------\u001b[0m",
      "\u001b[1;31mTypeError\u001b[0m                                 Traceback (most recent call last)",
      "Cell \u001b[1;32mIn[55], line 1\u001b[0m\n\u001b[1;32m----> 1\u001b[0m \u001b[38;5;28mprint\u001b[39m(\u001b[38;5;241;43m4\u001b[39;49m\u001b[38;5;241;43m+\u001b[39;49m\u001b[38;5;124;43m'\u001b[39;49m\u001b[38;5;124;43m4\u001b[39;49m\u001b[38;5;124;43m'\u001b[39;49m)\n",
      "\u001b[1;31mTypeError\u001b[0m: unsupported operand type(s) for +: 'int' and 'str'"
     ]
    }
   ],
   "source": [
    "# implicit wont work in al cases\n",
    "print(4 + '4')"
   ]
  },
  {
   "cell_type": "code",
   "execution_count": 57,
   "id": "b815c1c1-e950-4c40-a089-fa833e41a696",
   "metadata": {},
   "outputs": [
    {
     "data": {
      "text/plain": [
       "2"
      ]
     },
     "execution_count": 57,
     "metadata": {},
     "output_type": "execute_result"
    }
   ],
   "source": [
    "# explicit type conversion\n",
    "\n",
    "# str --> int\n",
    "\n",
    "int('2')"
   ]
  },
  {
   "cell_type": "code",
   "execution_count": 60,
   "id": "229d5503-e9b4-4413-8a80-07893cdc677d",
   "metadata": {},
   "outputs": [
    {
     "data": {
      "text/plain": [
       "4"
      ]
     },
     "execution_count": 60,
     "metadata": {},
     "output_type": "execute_result"
    }
   ],
   "source": [
    "int(4.2)"
   ]
  },
  {
   "cell_type": "code",
   "execution_count": 61,
   "id": "2bc79b05-fcb6-4b58-9bae-7ad4dcc63db3",
   "metadata": {},
   "outputs": [
    {
     "data": {
      "text/plain": [
       "'7'"
      ]
     },
     "execution_count": 61,
     "metadata": {},
     "output_type": "execute_result"
    }
   ],
   "source": [
    "str(7)"
   ]
  },
  {
   "cell_type": "code",
   "execution_count": 62,
   "id": "f28ffa9f-94f7-4456-af90-1abf12504a6f",
   "metadata": {},
   "outputs": [
    {
     "data": {
      "text/plain": [
       "7.0"
      ]
     },
     "execution_count": 62,
     "metadata": {},
     "output_type": "execute_result"
    }
   ],
   "source": [
    "float(7)"
   ]
  },
  {
   "cell_type": "markdown",
   "id": "23ae5fea-d0a7-46dc-942b-bc55c22e5f8b",
   "metadata": {},
   "source": [
    "### Task: Take 2 numbers from the user, add them, and print the result\n"
   ]
  },
  {
   "cell_type": "code",
   "execution_count": 66,
   "id": "e9322fb1-8483-488a-8041-5ad6b2cd06fb",
   "metadata": {},
   "outputs": [
    {
     "name": "stdin",
     "output_type": "stream",
     "text": [
      "no 1: 7\n",
      "no 2: 7\n"
     ]
    },
    {
     "name": "stdout",
     "output_type": "stream",
     "text": [
      "14\n",
      "<class 'str'>\n"
     ]
    }
   ],
   "source": [
    "# take input from user and store in  variable\n",
    "a=input('no 1:')\n",
    "b=input('no 2:')\n",
    "\n",
    "# add 2 variables\n",
    "\n",
    "c = int(a) + int(b)\n",
    "\n",
    "print(c)\n",
    "print(type(a))"
   ]
  },
  {
   "cell_type": "markdown",
   "id": "eba628a6-9545-4790-8036-b5e3595e6b39",
   "metadata": {},
   "source": [
    "### Type Conversion\n",
    "\n",
    "- **Explicit Type Conversion**: \n",
    "  - When we tried converting `a` from `str` to `int`, the result was successfully converted.\n",
    "  - However, the original value of `a` remains as a string.\n",
    "  - In Python, type conversion operations do not alter the original data. Instead, they create a new value with the desired type, and you work with this new value.\n"
   ]
  },
  {
   "cell_type": "markdown",
   "id": "097a3182-b7a3-41f6-bc59-9bb58b5429fb",
   "metadata": {},
   "source": [
    "### literals\n",
    "- the value which we store in variable is called literal\n",
    "eg a=2\n",
    "here a is variable\n",
    "= is operator\n",
    "2 is literal"
   ]
  },
  {
   "cell_type": "markdown",
   "id": "287e5a68-e664-499f-8d71-c1fab7bbbe4a",
   "metadata": {},
   "source": [
    "### Boolean\n",
    "-internally python interprets true as 1 and false as 0"
   ]
  },
  {
   "cell_type": "code",
   "execution_count": 70,
   "id": "bf3121d2-cea9-4c10-a146-8eea73d0eaed",
   "metadata": {},
   "outputs": [],
   "source": [
    "s = True + 4"
   ]
  },
  {
   "cell_type": "code",
   "execution_count": 71,
   "id": "a8e6d87e-b4b0-498a-b890-27c723075420",
   "metadata": {},
   "outputs": [
    {
     "data": {
      "text/plain": [
       "5"
      ]
     },
     "execution_count": 71,
     "metadata": {},
     "output_type": "execute_result"
    }
   ],
   "source": [
    "s"
   ]
  },
  {
   "cell_type": "markdown",
   "id": "826ef5d6-2a9a-4f10-bba5-27a679fd9f20",
   "metadata": {},
   "source": [
    "### Operators in Python\n",
    "\n",
    "- **Arithmetic Operators**\n",
    "  - Used for basic mathematical operations.\n",
    "  - Example:\n",
    "    ```python\n",
    "    print(7 + 7)  # Addition\n",
    "    print(7 - 6)  # Subtraction\n",
    "    print(7 * 17) # Multiplication\n",
    "    print(7 / 2)  # Division\n",
    "    print(7 // 2) # Integer Division\n",
    "    print(7 % 2)  # Modulus (Remainder)\n",
    "    print(7 ** 2) # Power\n",
    "    ```\n",
    "\n",
    "- **Relational Operators**\n",
    "  - Used for comparing values.\n",
    "  - Example:\n",
    "    ```python\n",
    "    print(4 > 5)  # Greater than\n",
    "    print(4 < 5)  # Less than\n",
    "    print(4 >= 4) # Greater than or equal to\n",
    "    print(4 <= 4) # Less than or equal to\n",
    "    print(4 == 4) # Equal to\n",
    "    print(4 != 4) # Not equal to\n",
    "    ```\n",
    "\n",
    "- **Logical Operators**\n",
    "  - Used for combining boolean expressions.\n",
    "  - Example:\n",
    "    ```python\n",
    "    print(1 and 0)   # Logical AND\n",
    "    print(1 or 0)    # Logical OR\n",
    "    print(not 1)     # Logical NOT\n",
    "    ```\n",
    "\n",
    "- **Bitwise Operators**\n",
    "  - Operate on binary values.\n",
    "  - Example:\n",
    "    ```python\n",
    "    print(2 & 3)   # Bitwise AND\n",
    "    print(2 | 3)   # Bitwise OR\n",
    "    print(2 ^ 3)   # Bitwise XOR\n",
    "    print(~3)      # Bitwise NOT\n",
    "    print(4 >> 2)  # Bitwise right shift\n",
    "    print(5 << 2)  # Bitwise left shift\n",
    "    ```\n",
    "\n",
    "- **Assignment Operators**\n",
    "  - Used for assigning values to variables.\n",
    "  - Example:\n",
    "    ```python\n",
    "    a = 2          # Assignment\n",
    "    a += 2         # Addition assignment\n",
    "    ```\n",
    "\n",
    "- **Membership Operators**\n",
    "  - Test for membership in sequences.\n",
    "  - Example:\n",
    "    ```python\n",
    "    print('D' not in 'Delhi') # Check if 'D' is not in 'Delhi'\n",
    "    print(1 in [1, 3, 4, 5, 6]) # Check if 1 is in the list\n",
    "    ```\n"
   ]
  },
  {
   "cell_type": "code",
   "execution_count": 24,
   "id": "0ad66a4a-0006-46b0-8fcc-6051b3c798a1",
   "metadata": {},
   "outputs": [
    {
     "name": "stdout",
     "output_type": "stream",
     "text": [
      "14\n",
      "1\n",
      "119\n",
      "3.5\n",
      "3\n",
      "1\n",
      "49\n"
     ]
    }
   ],
   "source": [
    "# Arithmetric Operators\n",
    "print(7+7)\n",
    "\n",
    "print(7-6)\n",
    "\n",
    "print(7*17)\n",
    "\n",
    "print(7/2)\n",
    "\n",
    "print(7//2) # integer division after division if our quotient is decimal then indteger division will convert it into int\n",
    "            # 7//2 = 3.5 but with int division its 3\n",
    "\n",
    "print(7%2) # modulus operator it gives remainder\n",
    "\n",
    "print(7**2) # power of"
   ]
  },
  {
   "cell_type": "code",
   "execution_count": 3,
   "id": "453f7c6f-39fa-4e38-8c82-60c6c24abca9",
   "metadata": {},
   "outputs": [
    {
     "name": "stdout",
     "output_type": "stream",
     "text": [
      "False\n",
      "True\n",
      "True\n",
      "True\n",
      "True\n",
      "False\n"
     ]
    }
   ],
   "source": [
    "# Relational Operators\n",
    "print(4>5)\n",
    "\n",
    "print(4<5)\n",
    "\n",
    "print(4>=4)\n",
    "\n",
    "print(4<=4)\n",
    "\n",
    "print(4==4)\n",
    "\n",
    "print(4!=4)"
   ]
  },
  {
   "cell_type": "code",
   "execution_count": 4,
   "id": "b0f692a3-604f-4d75-9620-90f606fc18d4",
   "metadata": {},
   "outputs": [
    {
     "name": "stdout",
     "output_type": "stream",
     "text": [
      "0\n",
      "1\n",
      "False\n"
     ]
    }
   ],
   "source": [
    "# Logical Operators\n",
    "print(1 and 0)\n",
    "\n",
    "print(1 or 0)\n",
    "\n",
    "print(not 1)"
   ]
  },
  {
   "cell_type": "code",
   "execution_count": 5,
   "id": "19f6cfc3-49ac-487c-9373-67dc06df0417",
   "metadata": {},
   "outputs": [
    {
     "name": "stdout",
     "output_type": "stream",
     "text": [
      "2\n",
      "3\n",
      "1\n",
      "-4\n",
      "1\n",
      "20\n"
     ]
    }
   ],
   "source": [
    "# Bitwise Operators: operates on binary values  \n",
    "\n",
    "# bitwise and\n",
    "print(2 & 3) # and operation on 010 & 110 = 010 = 2\n",
    "\n",
    "# bitwise or\n",
    "print(2 | 3)\n",
    "\n",
    "# bitwise xor\n",
    "print(2 ^ 3)\n",
    "\n",
    "# bitwise not\n",
    "print(~3)\n",
    "\n",
    "# left shift\n",
    "print(4 >> 2)\n",
    "\n",
    "print(5 << 2)"
   ]
  },
  {
   "cell_type": "code",
   "execution_count": 10,
   "id": "fb85b4af-bb95-4207-9deb-f6d12e3dd2b2",
   "metadata": {},
   "outputs": [
    {
     "name": "stdout",
     "output_type": "stream",
     "text": [
      "4\n"
     ]
    }
   ],
   "source": [
    "# Assignment Operators\n",
    "\n",
    "# = \n",
    "# a = 2\n",
    "\n",
    "a = 2\n",
    "\n",
    "# a = a + 2\n",
    "a += 2\n",
    "\n",
    "\n",
    "\n",
    "print(a)"
   ]
  },
  {
   "cell_type": "markdown",
   "id": "ec989509-3bd1-4a0a-a4f0-d99435e77e0a",
   "metadata": {},
   "source": [
    "### Membership Operators\n",
    "Membership operators in Python are used to test whether a value or variable is found within a sequence (like strings, lists, tuples, etc.). They help to quickly check for membership without needing to write explicit loops.\n",
    "\n",
    "- **`in`**: Checks if a value exists within a sequence.\n",
    "- **`not in`**: Checks if a value does not exist within a sequence.\n"
   ]
  },
  {
   "cell_type": "code",
   "execution_count": 25,
   "id": "79705197-df6c-4d05-8bed-e3fc89effbfa",
   "metadata": {},
   "outputs": [
    {
     "name": "stdout",
     "output_type": "stream",
     "text": [
      "False\n",
      "True\n"
     ]
    }
   ],
   "source": [
    "# Check if 'D' is not in the string 'Delhi'\n",
    "print('D' not in 'Delhi')  # Output: False\n",
    "\n",
    "# Check if 1 is in the list [1, 3, 4, 5, 6]\n",
    "print(1 in [1, 3, 4, 5, 6])  # Output: True"
   ]
  },
  {
   "cell_type": "markdown",
   "id": "c71e6a4c-a8ea-4e41-9531-a22ff4ceb133",
   "metadata": {},
   "source": [
    "#### Progam- Find the sum of a 4 digit number entered by user using operators"
   ]
  },
  {
   "cell_type": "code",
   "execution_count": 22,
   "id": "c63cc55d-668c-4f73-a4b0-35b8d1fe6d64",
   "metadata": {},
   "outputs": [
    {
     "name": "stdin",
     "output_type": "stream",
     "text": [
      "enter 4 digit number: 1111\n"
     ]
    },
    {
     "name": "stdout",
     "output_type": "stream",
     "text": [
      "4\n"
     ]
    }
   ],
   "source": [
    "num = int(input('enter 4 digit number:'))\n",
    "\n",
    "# 1111 % 10 = 1\n",
    "a = num % 10\n",
    "\n",
    "# 1111 // 10 = 111\n",
    "num = num // 10\n",
    "\n",
    "# 111 % 10 = 1\n",
    "b = num % 10\n",
    "\n",
    "# 111 // 10 = 11\n",
    "num = num // 10\n",
    "\n",
    "# 11 % 10 = 1\n",
    "c = num % 10\n",
    "\n",
    "# 11 // 10 = 1\n",
    "num = num // 10\n",
    "\n",
    "# 1 % 10 = 1\n",
    "d = num % 10\n",
    "\n",
    "print(a+b+c+d)\n"
   ]
  }
 ],
 "metadata": {
  "kernelspec": {
   "display_name": "Python 3 (ipykernel)",
   "language": "python",
   "name": "python3"
  },
  "language_info": {
   "codemirror_mode": {
    "name": "ipython",
    "version": 3
   },
   "file_extension": ".py",
   "mimetype": "text/x-python",
   "name": "python",
   "nbconvert_exporter": "python",
   "pygments_lexer": "ipython3",
   "version": "3.10.9"
  }
 },
 "nbformat": 4,
 "nbformat_minor": 5
}
