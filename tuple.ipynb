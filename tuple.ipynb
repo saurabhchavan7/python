{
 "cells": [
  {
   "cell_type": "markdown",
   "id": "ece5e6f9-aa30-463b-80e8-cc85b1925e6d",
   "metadata": {},
   "source": [
    "# Tuples\n",
    "\n",
    "**A tuple in Python is similar to a list.** The difference between the two is that we cannot change the elements of a tuple once it is assigned whereas we can change the elements of a list.\n",
    "\n",
    "In short, **a tuple is an immutable list.** A tuple can not be changed in any way once it is created.\n",
    "\n",
    "Characterstics\n",
    "\n",
    "- Ordered - order matters so 1,2,3 is not equal to 3,2,1 so just like list here also order matters\n",
    "- Unchangeble \n",
    "- Allows duplicate"
   ]
  },
  {
   "cell_type": "markdown",
   "id": "22d3f52e-d854-4dd3-bc74-815e3d362c92",
   "metadata": {},
   "source": [
    "  ### Content\n",
    "\n",
    "- Creating a Tuple\n",
    "- Accessing items \n",
    "- Editing items\n",
    "- Adding items\n",
    "- Deleting items\n",
    "- Operations on Tuples\n",
    "- Tuple Functions"
   ]
  },
  {
   "cell_type": "markdown",
   "id": "476cb473-3283-47b9-9280-02850be138b9",
   "metadata": {},
   "source": [
    "### Creating Tuples\n",
    "\n",
    "- **Syntax:** \n",
    "  - For lists, we use square brackets: `[]`\n",
    "  - For tuples, we use small brackets: `()`"
   ]
  },
  {
   "cell_type": "code",
   "execution_count": 2,
   "id": "8f59228d-636c-4e57-ad0b-96f2d6d0200a",
   "metadata": {},
   "outputs": [
    {
     "name": "stdout",
     "output_type": "stream",
     "text": [
      "()\n"
     ]
    }
   ],
   "source": [
    "# empty tuple\n",
    "\n",
    "t1 = ()\n",
    "print(t1)"
   ]
  },
  {
   "cell_type": "code",
   "execution_count": 5,
   "id": "2c3e845c-d1ca-43ba-a141-c71d7a110203",
   "metadata": {},
   "outputs": [
    {
     "name": "stdout",
     "output_type": "stream",
     "text": [
      "<class 'int'>\n"
     ]
    }
   ],
   "source": [
    "# create a tuple with a single item\n",
    "\n",
    "# wrong way\n",
    "\n",
    "t2 = (2)\n",
    "print(type(t2))"
   ]
  },
  {
   "cell_type": "code",
   "execution_count": 6,
   "id": "a17d065c-b17a-4398-a1f4-72e7d61bb608",
   "metadata": {},
   "outputs": [
    {
     "name": "stdout",
     "output_type": "stream",
     "text": [
      "(2,)\n",
      "<class 'tuple'>\n"
     ]
    }
   ],
   "source": [
    "# right way\n",
    "\n",
    "t2 = (2,)\n",
    "print(t2)\n",
    "print(type(t2))"
   ]
  },
  {
   "cell_type": "code",
   "execution_count": 8,
   "id": "ce6e7999-47b3-4da4-aedb-752e20b25384",
   "metadata": {},
   "outputs": [
    {
     "name": "stdout",
     "output_type": "stream",
     "text": [
      "(1, 2, 3, 4)\n",
      "<class 'tuple'>\n"
     ]
    }
   ],
   "source": [
    "# homogenious tuple\n",
    "\n",
    "t3 = (1,2,3,4)\n",
    "print(t3)\n",
    "print(type(t3))"
   ]
  },
  {
   "cell_type": "code",
   "execution_count": 10,
   "id": "190ae656-9ccd-4995-b475-64b7a30d2705",
   "metadata": {},
   "outputs": [
    {
     "name": "stdout",
     "output_type": "stream",
     "text": [
      "(1, 2, 3, True, [1, 2, 3])\n",
      "<class 'tuple'>\n"
     ]
    }
   ],
   "source": [
    "# heterogenious tuple\n",
    "\n",
    "t4 = (1,2,3,True,[1,2,3])\n",
    "print(t4)\n",
    "print(type(t4))"
   ]
  },
  {
   "cell_type": "code",
   "execution_count": 12,
   "id": "eda2c094-052b-4698-9544-4269272c169f",
   "metadata": {},
   "outputs": [
    {
     "name": "stdout",
     "output_type": "stream",
     "text": [
      "(1, 2, 3, (4, 5))\n"
     ]
    }
   ],
   "source": [
    "# 2d tupe i.e tuple within a tuple\n",
    "\n",
    "t5 = (1,2,3,(4,5))\n",
    "print(t5)\n"
   ]
  },
  {
   "cell_type": "code",
   "execution_count": 13,
   "id": "ed87eb53-94f4-45bc-8e00-9ae324fbdb75",
   "metadata": {},
   "outputs": [
    {
     "name": "stdout",
     "output_type": "stream",
     "text": [
      "('h', 'e', 'l', 'l', 'o')\n"
     ]
    }
   ],
   "source": [
    "# using tuple function we can do type conversion\n",
    "\n",
    "t6 = tuple('hello')\n",
    "print(t6)"
   ]
  },
  {
   "cell_type": "markdown",
   "id": "7dafad82-8898-4490-8b9c-fbd3e5304592",
   "metadata": {},
   "source": [
    "### Acessing items\n",
    "- indexing\n",
    "- slicing"
   ]
  },
  {
   "cell_type": "code",
   "execution_count": 14,
   "id": "ee7390f4-fcda-47cc-8af9-bca61a269b1b",
   "metadata": {},
   "outputs": [
    {
     "name": "stdout",
     "output_type": "stream",
     "text": [
      "(1, 2, 3, 4)\n",
      "1\n",
      "4\n"
     ]
    }
   ],
   "source": [
    "print(t3)\n",
    "print(t3[0])\n",
    "print(t3[-1])"
   ]
  },
  {
   "cell_type": "code",
   "execution_count": 17,
   "id": "64e16646-bba4-487b-abd0-5b9338f69618",
   "metadata": {},
   "outputs": [
    {
     "name": "stdout",
     "output_type": "stream",
     "text": [
      "(1, 2, 3, (4, 5))\n"
     ]
    },
    {
     "data": {
      "text/plain": [
       "4"
      ]
     },
     "execution_count": 17,
     "metadata": {},
     "output_type": "execute_result"
    }
   ],
   "source": [
    "print(t5)\n",
    "t5[-1][0]"
   ]
  },
  {
   "cell_type": "code",
   "execution_count": 19,
   "id": "6a0740a1-76b5-4f14-9c26-ca00c33607de",
   "metadata": {},
   "outputs": [
    {
     "name": "stdout",
     "output_type": "stream",
     "text": [
      "(1, 2, 3, 4)\n",
      "(1, 2)\n"
     ]
    }
   ],
   "source": [
    "# slicing\n",
    "print(t3)\n",
    "\n",
    "print(t3[0:2])"
   ]
  },
  {
   "cell_type": "markdown",
   "id": "a6e4b60c-4c40-431b-b19d-ccd81b7511e7",
   "metadata": {},
   "source": [
    "### editing items "
   ]
  },
  {
   "cell_type": "code",
   "execution_count": 20,
   "id": "dc42eafb-14e6-4daf-9739-5ceb5b80650e",
   "metadata": {},
   "outputs": [
    {
     "name": "stdout",
     "output_type": "stream",
     "text": [
      "(1, 2, 3, 4)\n"
     ]
    },
    {
     "ename": "TypeError",
     "evalue": "'tuple' object does not support item assignment",
     "output_type": "error",
     "traceback": [
      "\u001b[1;31m---------------------------------------------------------------------------\u001b[0m",
      "\u001b[1;31mTypeError\u001b[0m                                 Traceback (most recent call last)",
      "Cell \u001b[1;32mIn[20], line 2\u001b[0m\n\u001b[0;32m      1\u001b[0m \u001b[38;5;28mprint\u001b[39m(t3)\n\u001b[1;32m----> 2\u001b[0m t3[\u001b[38;5;241m0\u001b[39m] \u001b[38;5;241m=\u001b[39m \u001b[38;5;241m100\u001b[39m\n",
      "\u001b[1;31mTypeError\u001b[0m: 'tuple' object does not support item assignment"
     ]
    }
   ],
   "source": [
    "print(t3)\n",
    "t3[0] = 100\n"
   ]
  },
  {
   "cell_type": "markdown",
   "id": "9fc9d07d-7f6f-4057-9a97-5583181768b0",
   "metadata": {},
   "source": [
    "-Immutable just like strings"
   ]
  },
  {
   "cell_type": "markdown",
   "id": "8b193631-c0a6-43d8-a9b9-895bf8c57ccb",
   "metadata": {},
   "source": [
    "### Adding items"
   ]
  },
  {
   "cell_type": "code",
   "execution_count": 23,
   "id": "576f1fe8-ba75-41e9-af4e-a8c527559ac7",
   "metadata": {},
   "outputs": [
    {
     "name": "stdout",
     "output_type": "stream",
     "text": [
      "(1, 2, 3, 4)\n"
     ]
    }
   ],
   "source": [
    "print(t3)\n",
    "# not possible to add anything into t3\n",
    "# in case of list we had append, insert, extend but here its not possible"
   ]
  },
  {
   "cell_type": "markdown",
   "id": "eedcccaf-c254-49bb-a19f-70ad854c170d",
   "metadata": {},
   "source": [
    "### Deleting items"
   ]
  },
  {
   "cell_type": "code",
   "execution_count": 25,
   "id": "c839af83-0931-499d-9d1d-43814e9e2218",
   "metadata": {},
   "outputs": [
    {
     "name": "stdout",
     "output_type": "stream",
     "text": [
      "(1, 2, 3, 4)\n"
     ]
    },
    {
     "ename": "NameError",
     "evalue": "name 't3' is not defined",
     "output_type": "error",
     "traceback": [
      "\u001b[1;31m---------------------------------------------------------------------------\u001b[0m",
      "\u001b[1;31mNameError\u001b[0m                                 Traceback (most recent call last)",
      "Cell \u001b[1;32mIn[25], line 3\u001b[0m\n\u001b[0;32m      1\u001b[0m \u001b[38;5;28mprint\u001b[39m(t3)\n\u001b[0;32m      2\u001b[0m \u001b[38;5;28;01mdel\u001b[39;00m t3\n\u001b[1;32m----> 3\u001b[0m \u001b[38;5;28mprint\u001b[39m(\u001b[43mt3\u001b[49m)\n",
      "\u001b[1;31mNameError\u001b[0m: name 't3' is not defined"
     ]
    }
   ],
   "source": [
    "print(t3)\n",
    "del t3\n",
    "print(t3)"
   ]
  },
  {
   "cell_type": "markdown",
   "id": "005c2ef7-74a2-45e4-8db8-1f1c08afa9ef",
   "metadata": {},
   "source": [
    "\n",
    "- **Deleting the Entire Tuple:**\n",
    "  You can delete the entire tuple using the `del` statement."
   ]
  },
  {
   "cell_type": "markdown",
   "id": "3dddf98f-f7af-4e91-b490-b56553ed0967",
   "metadata": {},
   "source": [
    "### Operations on Tuples"
   ]
  },
  {
   "cell_type": "code",
   "execution_count": 26,
   "id": "373a27df-1f51-410b-a92f-3598fa81bdc8",
   "metadata": {},
   "outputs": [
    {
     "name": "stdout",
     "output_type": "stream",
     "text": [
      "(1, 2, 3, 4, 5, 6, 7, 8)\n",
      "(1, 2, 3, 4, 1, 2, 3, 4, 1, 2, 3, 4)\n",
      "1\n",
      "2\n",
      "3\n",
      "4\n"
     ]
    }
   ],
   "source": [
    "# + and *\n",
    "t1 = (1,2,3,4)\n",
    "t2 = (5,6,7,8)\n",
    "\n",
    "print(t1 + t2)\n",
    "\n",
    "print(t1*3)\n",
    "# membership\n",
    "1 in t1\n",
    "# iteration\n",
    "for i in t1:\n",
    "  print(i)"
   ]
  },
  {
   "cell_type": "markdown",
   "id": "b63c6f24-ee56-4713-af68-31efc5051aea",
   "metadata": {},
   "source": [
    "### Tuple Functions"
   ]
  },
  {
   "cell_type": "code",
   "execution_count": 29,
   "id": "5798d099-edfd-4cee-8803-68c802827b3d",
   "metadata": {},
   "outputs": [
    {
     "name": "stdout",
     "output_type": "stream",
     "text": [
      "4\n",
      "10\n",
      "1\n",
      "4\n"
     ]
    },
    {
     "data": {
      "text/plain": [
       "[4, 3, 2, 1]"
      ]
     },
     "execution_count": 29,
     "metadata": {},
     "output_type": "execute_result"
    }
   ],
   "source": [
    "# len/sum/min/max/sorted\n",
    "t = (1,2,3,4)\n",
    "\n",
    "print(len(t))\n",
    "\n",
    "print(sum(t))\n",
    "\n",
    "print(min(t))\n",
    "\n",
    "print(max(t))\n",
    "\n",
    "sorted(t,reverse=True)"
   ]
  },
  {
   "cell_type": "code",
   "execution_count": 31,
   "id": "1765dc6e-33dc-4036-837a-aade128c6279",
   "metadata": {},
   "outputs": [
    {
     "data": {
      "text/plain": [
       "1"
      ]
     },
     "execution_count": 31,
     "metadata": {},
     "output_type": "execute_result"
    }
   ],
   "source": [
    "# count\n",
    "\n",
    "t = (1,2,3,4,5)\n",
    "\n",
    "t.count(5) # it will tell frequency of 5"
   ]
  },
  {
   "cell_type": "code",
   "execution_count": 32,
   "id": "7ba31702-46f6-43fc-a9a5-5480b8011da6",
   "metadata": {},
   "outputs": [
    {
     "data": {
      "text/plain": [
       "4"
      ]
     },
     "execution_count": 32,
     "metadata": {},
     "output_type": "execute_result"
    }
   ],
   "source": [
    "# index\n",
    "t.index(5)"
   ]
  },
  {
   "cell_type": "markdown",
   "id": "099515eb-ef8e-4958-9508-776dd5fd8e70",
   "metadata": {},
   "source": [
    "### Difference between Lists and Tuples\n",
    "\n",
    "- **Syntax**  \n",
    "  Lists are created using square brackets `[]`, while tuples are created using parentheses `()`.\n",
    "\n",
    "- **Mutability**  \n",
    "  Lists are mutable, meaning their elements can be changed after creation. Tuples are immutable, meaning their elements cannot be changed once they are created.\n",
    "\n",
    "- **Speed**  \n",
    "  Immutable data types, such as tuples, are generally faster than mutable types like lists. This is due to the optimizations in Python for immutable objects.\n",
    "\n",
    "- **Memory**  \n",
    "  Tuples take up less memory compared to lists. This is because tuples have a fixed size, which allows for more efficient memory usage.\n",
    "\n",
    "- **Built-in Functionality**  \n",
    "  Lists have more built-in methods and functions compared to tuples. For example, lists have methods like `append()`, `extend()`, and `remove()` that tuples do not support.\n",
    "\n",
    "- **Error Prone**  \n",
    "  Since tuples are immutable, there is less chance of making mistakes related to unintended modifications. This immutability can lead to fewer bugs compared to mutable lists.\n",
    "\n",
    "- **Usability**  \n",
    "  The primary difference lies in mutability. Tuples are often used for fixed collections of items that should not change, making them suitable for read-only applications. Lists are preferred in situations where items need to be modified, added, or removed frequently.\n"
   ]
  },
  {
   "cell_type": "markdown",
   "id": "ce07bf0f-033f-44bd-8482-84c838822e7b",
   "metadata": {},
   "source": [
    "#### speed comparison"
   ]
  },
  {
   "cell_type": "code",
   "execution_count": 34,
   "id": "532f02ff-e2b3-4731-bacd-5b5be21435de",
   "metadata": {},
   "outputs": [
    {
     "name": "stdout",
     "output_type": "stream",
     "text": [
      "List time 0.0019948482513427734\n",
      "Tuple time 0.000997304916381836\n"
     ]
    }
   ],
   "source": [
    "import time \n",
    "\n",
    "L = list(range(10000))\n",
    "T = tuple(range(10000))\n",
    "\n",
    "start = time.time()\n",
    "for i in L:\n",
    "  i*5\n",
    "print('List time',time.time()-start)\n",
    "\n",
    "start = time.time()\n",
    "for i in T:\n",
    "  i*5\n",
    "print('Tuple time',time.time()-start)"
   ]
  },
  {
   "cell_type": "markdown",
   "id": "dc15febd-d023-4ad3-b4a0-1b6ebb571a7b",
   "metadata": {},
   "source": [
    "#### memory comparison"
   ]
  },
  {
   "cell_type": "code",
   "execution_count": 35,
   "id": "723d3481-1277-4399-9ebf-1d70b7a55a20",
   "metadata": {},
   "outputs": [
    {
     "name": "stdout",
     "output_type": "stream",
     "text": [
      "List size 8056\n",
      "Tuple size 8040\n"
     ]
    }
   ],
   "source": [
    "import sys\n",
    "\n",
    "L = list(range(1000))\n",
    "T = tuple(range(1000))\n",
    "\n",
    "print('List size',sys.getsizeof(L))\n",
    "print('Tuple size',sys.getsizeof(T))\n"
   ]
  },
  {
   "cell_type": "markdown",
   "id": "9eb6d276-40c4-4cde-ae9a-0094bc56c4e1",
   "metadata": {},
   "source": [
    "#### eg of why list are more prone to error"
   ]
  },
  {
   "cell_type": "code",
   "execution_count": 36,
   "id": "87f4a0de-fcec-4d86-a85a-900bab81ee6f",
   "metadata": {},
   "outputs": [
    {
     "name": "stdout",
     "output_type": "stream",
     "text": [
      "[1, 2, 3, 4]\n",
      "[1, 2, 3, 4]\n"
     ]
    }
   ],
   "source": [
    " a = [1,2,3]\n",
    "b = a\n",
    "\n",
    "a.append(4)\n",
    "print(a)\n",
    "print(b)"
   ]
  },
  {
   "cell_type": "code",
   "execution_count": 37,
   "id": "1b46ed21-052c-414b-86d5-c8451dffec33",
   "metadata": {},
   "outputs": [
    {
     "name": "stdout",
     "output_type": "stream",
     "text": [
      "(1, 2, 3, 4)\n",
      "(1, 2, 3)\n"
     ]
    }
   ],
   "source": [
    "a = (1,2,3)\n",
    "b = a\n",
    "\n",
    "a = a + (4,) # since there is no as such append function for tuple will do this\n",
    "print(a)\n",
    "print(b)"
   ]
  },
  {
   "cell_type": "markdown",
   "id": "66b89e1c-a9ad-419c-9f58-7ef3f31a63cc",
   "metadata": {},
   "source": [
    "- **Immutability and Debugging**  \n",
    "  In the case of tuples, if you modify a tuple (e.g., by adding elements), the original tuple remains unchanged, whereas in lists, modifying the list affects all references to it. For example:\n"
   ]
  },
  {
   "cell_type": "markdown",
   "id": "8c782c22-5f0e-476c-b6a5-e693364e713e",
   "metadata": {},
   "source": [
    "### special syntax"
   ]
  },
  {
   "cell_type": "markdown",
   "id": "b318f012-e4c8-416a-93b7-f431101504e0",
   "metadata": {},
   "source": [
    "- we can unpack a tuple value and store it in a variable"
   ]
  },
  {
   "cell_type": "code",
   "execution_count": 38,
   "id": "051a8435-a7bd-4feb-8cbd-c1d1c8c30072",
   "metadata": {},
   "outputs": [
    {
     "name": "stdout",
     "output_type": "stream",
     "text": [
      "1 2 3\n"
     ]
    }
   ],
   "source": [
    "# tuple unpacking\n",
    "a,b,c = (1,2,3)\n",
    "print(a,b,c)"
   ]
  },
  {
   "cell_type": "code",
   "execution_count": 39,
   "id": "563cc5e5-1cb3-43b7-83c8-e32c12532cd1",
   "metadata": {},
   "outputs": [
    {
     "ename": "ValueError",
     "evalue": "too many values to unpack (expected 2)",
     "output_type": "error",
     "traceback": [
      "\u001b[1;31m---------------------------------------------------------------------------\u001b[0m",
      "\u001b[1;31mValueError\u001b[0m                                Traceback (most recent call last)",
      "Cell \u001b[1;32mIn[39], line 1\u001b[0m\n\u001b[1;32m----> 1\u001b[0m a,b \u001b[38;5;241m=\u001b[39m (\u001b[38;5;241m1\u001b[39m,\u001b[38;5;241m2\u001b[39m,\u001b[38;5;241m3\u001b[39m)\n\u001b[0;32m      2\u001b[0m \u001b[38;5;28mprint\u001b[39m(a,b)\n",
      "\u001b[1;31mValueError\u001b[0m: too many values to unpack (expected 2)"
     ]
    }
   ],
   "source": [
    "a,b = (1,2,3)\n",
    "print(a,b)"
   ]
  },
  {
   "cell_type": "markdown",
   "id": "b5e9325f-88f9-40de-99b1-642596535c94",
   "metadata": {},
   "source": [
    "- during unpacking variables and values in tuples must be same"
   ]
  },
  {
   "cell_type": "code",
   "execution_count": 42,
   "id": "0c156b22-430c-4423-9790-6ec3718be91e",
   "metadata": {},
   "outputs": [
    {
     "name": "stdout",
     "output_type": "stream",
     "text": [
      "2 1\n"
     ]
    }
   ],
   "source": [
    "# swapping values\n",
    "a = 1\n",
    "b = 2\n",
    "a,b = b,a\n",
    "\n",
    "print(a,b)"
   ]
  },
  {
   "cell_type": "code",
   "execution_count": 43,
   "id": "d9634347-80c7-46f4-b256-8c98517c2599",
   "metadata": {},
   "outputs": [
    {
     "name": "stdout",
     "output_type": "stream",
     "text": [
      "1 2\n",
      "[3, 4]\n"
     ]
    }
   ],
   "source": [
    "a,b,*others = (1,2,3,4)\n",
    "print(a,b)\n",
    "print(others)"
   ]
  },
  {
   "cell_type": "markdown",
   "id": "ec4849c2-51b0-4331-893b-964300401d2c",
   "metadata": {},
   "source": [
    "- **Extracting and Storing Values**  \n",
    "  If you want to extract the first few values from a tuple and store the remaining values in a list, you can use tuple unpacking with the `*` operator. For example:\n"
   ]
  },
  {
   "cell_type": "code",
   "execution_count": 47,
   "id": "bf8c03c0-54a6-48d5-bd8b-31a7b399722e",
   "metadata": {},
   "outputs": [
    {
     "data": {
      "text/plain": [
       "((1, 5), (2, 6), (3, 7), (4, 8))"
      ]
     },
     "execution_count": 47,
     "metadata": {},
     "output_type": "execute_result"
    }
   ],
   "source": [
    "# zipping tuples\n",
    "a = (1,2,3,4)\n",
    "b = (5,6,7,8)\n",
    "\n",
    "tuple(zip(a,b))"
   ]
  },
  {
   "cell_type": "code",
   "execution_count": 49,
   "id": "54e5ccf4-b5d5-4b63-97a2-d63069c9cc60",
   "metadata": {},
   "outputs": [
    {
     "data": {
      "text/plain": [
       "<generator object <genexpr> at 0x0000024D2DD85230>"
      ]
     },
     "execution_count": 49,
     "metadata": {},
     "output_type": "execute_result"
    }
   ],
   "source": [
    "(x for x in a)"
   ]
  },
  {
   "cell_type": "code",
   "execution_count": null,
   "id": "08a1413a-9984-4835-8d07-3611debdcbb4",
   "metadata": {},
   "outputs": [],
   "source": []
  }
 ],
 "metadata": {
  "kernelspec": {
   "display_name": "Python 3 (ipykernel)",
   "language": "python",
   "name": "python3"
  },
  "language_info": {
   "codemirror_mode": {
    "name": "ipython",
    "version": 3
   },
   "file_extension": ".py",
   "mimetype": "text/x-python",
   "name": "python",
   "nbconvert_exporter": "python",
   "pygments_lexer": "ipython3",
   "version": "3.10.9"
  }
 },
 "nbformat": 4,
 "nbformat_minor": 5
}
