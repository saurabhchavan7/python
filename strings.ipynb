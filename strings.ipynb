{
 "cells": [
  {
   "cell_type": "markdown",
   "id": "3024d9b5-d5fe-4b52-b0ea-3d8975586f05",
   "metadata": {},
   "source": [
    "### Strings\n",
    "\n",
    "- Text in programming languages is called a string.\n",
    "- Strings are sequences of characters.\n",
    "- In Python specifically, strings are sequences of Unicode characters. In other languages, there might be ASCII characters, but Python uses Unicode.\n",
    "- In the 70s and 80s, computers were 8-bit, so only a limited number of characters could be represented. This small range was a limitation.\n",
    "- As computing progressed and creators noticed the need to represent many languages, ASCII became insufficient due to its 8-bit limitation. Hence, a 16-bit character set called Unicode was introduced.\n",
    "- A 16-bit character set means \\(2^{16}\\) combinations, allowing storage of a large number of characters from different languages.\n",
    "\n",
    "#### Topics:\n",
    "1. Creating Strings\n",
    "2. Accessing Strings\n",
    "3. Adding Characters to Strings\n",
    "4. Editing Strings\n",
    "5. Deleting Strings\n",
    "6. Operations on Strings\n",
    "7. String Functions\n"
   ]
  },
  {
   "cell_type": "markdown",
   "id": "7274b783-f902-4132-bfad-a38e717f412d",
   "metadata": {},
   "source": [
    "### 1. Creating Strings\n",
    "\n",
    "There are various ways to create Python strings:\n",
    "- Using single quotes: `s = 'python'`\n",
    "- Using double quotes: `s = \"python\"`\n",
    "- Using triple single quotes (for multiline strings): `s = '''python'''`\n",
    "- Using triple double quotes (also valid for multiline strings): `s = \"\"\"python\"\"\"`"
   ]
  },
  {
   "cell_type": "code",
   "execution_count": 3,
   "id": "e92db513-a36b-466f-b966-a0153de68721",
   "metadata": {},
   "outputs": [
    {
     "name": "stdout",
     "output_type": "stream",
     "text": [
      "python\n"
     ]
    }
   ],
   "source": [
    "s = 'python'\n",
    "\n",
    "s = \"python\"\n",
    "\n",
    "s = '''python''' # used for multiline string\n",
    "s = \"\"\"python\"\"\" # this is also valid \n",
    "print(s)"
   ]
  },
  {
   "cell_type": "code",
   "execution_count": 6,
   "id": "2e506c44-2e54-4a01-b27d-8a9399deade8",
   "metadata": {},
   "outputs": [
    {
     "data": {
      "text/plain": [
       "\"it's raining outside\""
      ]
     },
     "execution_count": 6,
     "metadata": {},
     "output_type": "execute_result"
    }
   ],
   "source": [
    "\"it's raining outside\" # in such scenarios use double "
   ]
  },
  {
   "cell_type": "markdown",
   "id": "74821da5-fc03-4a2f-b358-115960c5ab03",
   "metadata": {},
   "source": [
    "### 2. Accessing Substrings from a String\n",
    "\n",
    "If you have a string, you can extract a particular character or substring using indexing and slicing:\n",
    "\n",
    "- **Positive Indexing**: Python automatically assigns an index to each character starting with zero.\n",
    "- **Negative Indexing**: Python assigns negative indices starting from -1 for the last character.\n",
    "\n",
    "Examples:\n",
    "- Positive Indexing: `s[0]` extracts the first character.\n",
    "- Negative Indexing: `s[-2]` extracts the second-to-last character.\n",
    "- Slicing: `s[0:5]` extracts a substring from index 0 to 4.\n",
    "- Step Size: `s[0:5:2]` extracts characters from index 0 to 4, stepping by 2.\n",
    "- Reversing: `s[::-1]` reverses the string.\n"
   ]
  },
  {
   "cell_type": "code",
   "execution_count": 8,
   "id": "716d8a77-9af1-4cb2-a84f-5eb802beb81e",
   "metadata": {},
   "outputs": [
    {
     "name": "stdout",
     "output_type": "stream",
     "text": [
      "h\n"
     ]
    }
   ],
   "source": [
    "# positive indexing\n",
    "# when we create string python will automaatically assign a index to each of the characters starting with zero\n",
    "# this is positive indexing since moving from 0 to positive no\n",
    "\n",
    "s = 'hello world' \n",
    "\n",
    "print(s[0])"
   ]
  },
  {
   "cell_type": "code",
   "execution_count": 9,
   "id": "6870f513-b97d-4dba-87fc-54ea10317cac",
   "metadata": {},
   "outputs": [
    {
     "name": "stdout",
     "output_type": "stream",
     "text": [
      "l\n"
     ]
    }
   ],
   "source": [
    "# negative indexing\n",
    "# python will assign last index as negative from last to first\n",
    "# this helps when we dont know the length of the string we still can remove the last character\n",
    "s = 'hello world' \n",
    "\n",
    "print(s[-2])"
   ]
  },
  {
   "cell_type": "code",
   "execution_count": 20,
   "id": "262e172c-92e0-4bc1-94bd-472478b66ade",
   "metadata": {},
   "outputs": [
    {
     "name": "stdout",
     "output_type": "stream",
     "text": [
      "hello\n",
      "hlo\n",
      "rwol\n",
      "dlrow olleh\n"
     ]
    }
   ],
   "source": [
    "# slicing\n",
    "# we can extract more than one character\n",
    "# then here in square bracket will provide the range from where to where ddo we want to slice \n",
    "\n",
    "s = 'hello world' \n",
    "\n",
    "print(s[0:5])\n",
    "\n",
    "# here we can also give third no i.e step size\n",
    "\n",
    "print(s[0:5:2])\n",
    "\n",
    "# using negative steps i.e to reverse\n",
    "\n",
    "print(s[8:0:-2])\n",
    "\n",
    "# code to reverse entire thing in one line\n",
    "\n",
    "print(s[::-1])"
   ]
  },
  {
   "cell_type": "markdown",
   "id": "70b88788-8fbb-4c5e-85ba-a95277d9ba82",
   "metadata": {},
   "source": [
    "###  4. editing strings"
   ]
  },
  {
   "cell_type": "code",
   "execution_count": 25,
   "id": "b4f18946-b9cf-4b6b-b3b6-e2518ddf38af",
   "metadata": {},
   "outputs": [
    {
     "ename": "TypeError",
     "evalue": "'str' object does not support item assignment",
     "output_type": "error",
     "traceback": [
      "\u001b[1;31m---------------------------------------------------------------------------\u001b[0m",
      "\u001b[1;31mTypeError\u001b[0m                                 Traceback (most recent call last)",
      "Cell \u001b[1;32mIn[25], line 3\u001b[0m\n\u001b[0;32m      1\u001b[0m s \u001b[38;5;241m=\u001b[39m \u001b[38;5;124m'\u001b[39m\u001b[38;5;124mhello world\u001b[39m\u001b[38;5;124m'\u001b[39m \n\u001b[1;32m----> 3\u001b[0m s[\u001b[38;5;241m0\u001b[39m] \u001b[38;5;241m=\u001b[39m \u001b[38;5;124m'\u001b[39m\u001b[38;5;124mH\u001b[39m\u001b[38;5;124m'\u001b[39m\n",
      "\u001b[1;31mTypeError\u001b[0m: 'str' object does not support item assignment"
     ]
    }
   ],
   "source": [
    "s = 'hello world' \n",
    "\n",
    "s[0] = 'H'"
   ]
  },
  {
   "cell_type": "markdown",
   "id": "c58c209c-e165-43dc-bde4-a1731c07e66b",
   "metadata": {},
   "source": [
    "- **'str' object does not support item assignment**: In Python, once you create a string, you can't change or edit it. The technical term for this is immutability.\n",
    "- **Python strings are immutable; they can't be changed once they are created.**\n",
    "\n",
    "### 5. Deleting Strings\n",
    "\n",
    "- We use the `del` operator in Python to delete strings or variables.\n"
   ]
  },
  {
   "cell_type": "code",
   "execution_count": 26,
   "id": "745c396c-d3d1-4495-adb4-9b838e1a821b",
   "metadata": {},
   "outputs": [],
   "source": [
    "s = 'hello world' \n",
    "\n",
    "del s"
   ]
  },
  {
   "cell_type": "code",
   "execution_count": 27,
   "id": "b7cb2637-c0bf-4c5a-868f-5bbe393eaf6d",
   "metadata": {},
   "outputs": [
    {
     "ename": "NameError",
     "evalue": "name 's' is not defined",
     "output_type": "error",
     "traceback": [
      "\u001b[1;31m---------------------------------------------------------------------------\u001b[0m",
      "\u001b[1;31mNameError\u001b[0m                                 Traceback (most recent call last)",
      "Cell \u001b[1;32mIn[27], line 1\u001b[0m\n\u001b[1;32m----> 1\u001b[0m \u001b[38;5;28mprint\u001b[39m(\u001b[43ms\u001b[49m)\n",
      "\u001b[1;31mNameError\u001b[0m: name 's' is not defined"
     ]
    }
   ],
   "source": [
    "print(s)"
   ]
  },
  {
   "cell_type": "code",
   "execution_count": 28,
   "id": "16e523ae-38a1-414e-a6a4-9471aa0f8da9",
   "metadata": {},
   "outputs": [
    {
     "ename": "TypeError",
     "evalue": "'str' object does not support item deletion",
     "output_type": "error",
     "traceback": [
      "\u001b[1;31m---------------------------------------------------------------------------\u001b[0m",
      "\u001b[1;31mTypeError\u001b[0m                                 Traceback (most recent call last)",
      "Cell \u001b[1;32mIn[28], line 3\u001b[0m\n\u001b[0;32m      1\u001b[0m s \u001b[38;5;241m=\u001b[39m \u001b[38;5;124m'\u001b[39m\u001b[38;5;124mhello world\u001b[39m\u001b[38;5;124m'\u001b[39m \n\u001b[1;32m----> 3\u001b[0m \u001b[38;5;28;01mdel\u001b[39;00m s[\u001b[38;5;241m1\u001b[39m:\u001b[38;5;241m5\u001b[39m]\n\u001b[0;32m      4\u001b[0m \u001b[38;5;28mprint\u001b[39m(s)\n",
      "\u001b[1;31mTypeError\u001b[0m: 'str' object does not support item deletion"
     ]
    }
   ],
   "source": [
    "s = 'hello world' \n",
    "\n",
    "del s[1:5]\n",
    "print(s)"
   ]
  },
  {
   "cell_type": "markdown",
   "id": "e8d35753-1e05-4ac4-af3b-361dd119e036",
   "metadata": {},
   "source": [
    "- We can't do this since Python strings are immutable, and changes to strings are not allowed.\n"
   ]
  },
  {
   "cell_type": "markdown",
   "id": "b81050ec-c608-424b-b445-8dc911814b49",
   "metadata": {},
   "source": [
    "### 6. Operations on Strings\n",
    "\n",
    "- **Arithmetic Operations**: Works with multiplication and addition.\n",
    "- **Relational Operations**: All relational operators work with strings.\n",
    "- **Logical Operations**: Empty strings are considered `False`, and non-empty strings are considered `True`.\n",
    "- **Loops on Strings**: Strings can be iterated over in loops.\n",
    "- **Membership Operations**: Check if a substring is present in a string.\n"
   ]
  },
  {
   "cell_type": "code",
   "execution_count": 32,
   "id": "faf236ee-8181-402c-9c62-cd1eaff0411d",
   "metadata": {},
   "outputs": [
    {
     "name": "stdout",
     "output_type": "stream",
     "text": [
      "mumbai boston\n",
      "mumbaimumbaimumbaimumbaimumbai\n"
     ]
    }
   ],
   "source": [
    "# arithmetic operations\n",
    "\n",
    "print('mumbai'+ ' ' +'boston') # string concatenation\n",
    "\n",
    "print('mumbai'*5) # it will multiply 5 times"
   ]
  },
  {
   "cell_type": "code",
   "execution_count": 33,
   "id": "dc82a804-19be-44ee-beac-d0318545994e",
   "metadata": {},
   "outputs": [
    {
     "data": {
      "text/plain": [
       "False"
      ]
     },
     "execution_count": 33,
     "metadata": {},
     "output_type": "execute_result"
    }
   ],
   "source": [
    "# relational operations\n",
    "\n",
    "'boston' == 'mumbai'"
   ]
  },
  {
   "cell_type": "code",
   "execution_count": 38,
   "id": "1e117bd6-5905-4a27-bac9-88427688b44c",
   "metadata": {},
   "outputs": [
    {
     "data": {
      "text/plain": [
       "False"
      ]
     },
     "execution_count": 38,
     "metadata": {},
     "output_type": "execute_result"
    }
   ],
   "source": [
    "'boston' > 'mumbai'\n",
    "# strings are being compared lexiographically\n",
    "# so the letter which comes first is bigger thane the other"
   ]
  },
  {
   "cell_type": "code",
   "execution_count": 36,
   "id": "5c77bd31-2abe-4ee5-aa46-78ceb445193d",
   "metadata": {},
   "outputs": [
    {
     "data": {
      "text/plain": [
       "True"
      ]
     },
     "execution_count": 36,
     "metadata": {},
     "output_type": "execute_result"
    }
   ],
   "source": [
    "'boston' > 'Mumbai'"
   ]
  },
  {
   "cell_type": "markdown",
   "id": "5ed4e1d2-d965-4f2c-8b5e-ae45085b14d7",
   "metadata": {},
   "source": [
    "- true since capital letter aschi values is smaller than small "
   ]
  },
  {
   "cell_type": "code",
   "execution_count": 40,
   "id": "d0390218-f170-4c95-9426-96a004ee4acf",
   "metadata": {},
   "outputs": [
    {
     "data": {
      "text/plain": [
       "''"
      ]
     },
     "execution_count": 40,
     "metadata": {},
     "output_type": "execute_result"
    }
   ],
   "source": [
    "#  logical operations\n",
    "\n",
    "'' and 'world'\n",
    "# empty string and world , empty string represent false\n",
    "# so and operator give true when both are true in this case therese empty string which is false hence it will give false i.e emoty string\n"
   ]
  },
  {
   "cell_type": "code",
   "execution_count": 41,
   "id": "b94768f1-9d87-4b7f-91cc-d388fd7fe497",
   "metadata": {},
   "outputs": [
    {
     "data": {
      "text/plain": [
       "'world'"
      ]
     },
     "execution_count": 41,
     "metadata": {},
     "output_type": "execute_result"
    }
   ],
   "source": [
    "'' or 'world'"
   ]
  },
  {
   "cell_type": "code",
   "execution_count": 42,
   "id": "0424e3a2-6f69-44a6-8415-f0b58c75872f",
   "metadata": {},
   "outputs": [
    {
     "data": {
      "text/plain": [
       "'hello'"
      ]
     },
     "execution_count": 42,
     "metadata": {},
     "output_type": "execute_result"
    }
   ],
   "source": [
    "'hello' or 'world'"
   ]
  },
  {
   "cell_type": "markdown",
   "id": "b4308d1b-d47f-4b72-ae17-6cff8b5a2014",
   "metadata": {},
   "source": [
    "- When Python sees an initial condition that is true, the condition for `or` is that any one of the operands being true makes the whole expression true. Hence, it printed the initial value, which is `hello`.\n",
    "- In the case of `and`, if all conditions are true, the result is true. Python evaluates all conditions, and if they are all true, it gives the output after analyzing all strings.\n"
   ]
  },
  {
   "cell_type": "code",
   "execution_count": 44,
   "id": "51eeed0b-8942-4681-93f1-8dda274bc297",
   "metadata": {},
   "outputs": [
    {
     "data": {
      "text/plain": [
       "'world'"
      ]
     },
     "execution_count": 44,
     "metadata": {},
     "output_type": "execute_result"
    }
   ],
   "source": [
    "'hello' and 'world'"
   ]
  },
  {
   "cell_type": "code",
   "execution_count": 45,
   "id": "0a987ea4-cd08-47d9-bada-6e04382c3ce6",
   "metadata": {},
   "outputs": [
    {
     "data": {
      "text/plain": [
       "True"
      ]
     },
     "execution_count": 45,
     "metadata": {},
     "output_type": "execute_result"
    }
   ],
   "source": [
    "not ''"
   ]
  },
  {
   "cell_type": "code",
   "execution_count": 46,
   "id": "c736fa61-2de5-4fb9-ba18-9bf2b90e890f",
   "metadata": {},
   "outputs": [
    {
     "data": {
      "text/plain": [
       "False"
      ]
     },
     "execution_count": 46,
     "metadata": {},
     "output_type": "execute_result"
    }
   ],
   "source": [
    "not 'hello'"
   ]
  },
  {
   "cell_type": "markdown",
   "id": "5b6e69ad-ad1c-4af3-a1a7-cdcccd7502b5",
   "metadata": {},
   "source": [
    "### Loops on Strings\n",
    "\n",
    "- In Python, loops can iterate over strings.\n",
    "- Strings in Python are iterable, which allows loops to operate on them.\n"
   ]
  },
  {
   "cell_type": "code",
   "execution_count": 47,
   "id": "e911d58e-cbbe-4fe0-875c-08b15c061302",
   "metadata": {},
   "outputs": [
    {
     "name": "stdout",
     "output_type": "stream",
     "text": [
      "h\n",
      "e\n",
      "l\n",
      "l\n",
      "o\n"
     ]
    }
   ],
   "source": [
    "for i in 'hello':\n",
    "    print(i)"
   ]
  },
  {
   "cell_type": "code",
   "execution_count": 51,
   "id": "e95aee09-d89b-4187-a581-0b678fe20c6d",
   "metadata": {},
   "outputs": [
    {
     "name": "stdout",
     "output_type": "stream",
     "text": [
      "mumbai\n",
      "mumbai\n",
      "mumbai\n",
      "mumbai\n",
      "mumbai\n",
      "mumbai\n"
     ]
    }
   ],
   "source": [
    "for i in 'boston':\n",
    "    print('mumbai')"
   ]
  },
  {
   "cell_type": "markdown",
   "id": "2e0e6857-f358-47ad-a3e2-824c8210d00b",
   "metadata": {},
   "source": [
    "**membership operations**"
   ]
  },
  {
   "cell_type": "code",
   "execution_count": 52,
   "id": "c1e971f2-575a-47ac-876e-5d5092a60f79",
   "metadata": {},
   "outputs": [
    {
     "data": {
      "text/plain": [
       "True"
      ]
     },
     "execution_count": 52,
     "metadata": {},
     "output_type": "execute_result"
    }
   ],
   "source": [
    "'B' in 'Boston'"
   ]
  },
  {
   "cell_type": "markdown",
   "id": "cd0d947e-a9bc-46c7-91ad-9907567e4a07",
   "metadata": {},
   "source": [
    "### 7. String Functions\n",
    "\n",
    "- A string is a data type.\n",
    "- To handle this data type, there are several functions available.\n",
    "- Commonly used functions applicable to all data types (e.g., strings, lists, sets, dictionaries, tuples) include:\n",
    "\n",
    "  - `len()`\n",
    "  - `max()`\n",
    "  - `min()`\n",
    "  - `sorted()`\n"
   ]
  },
  {
   "cell_type": "code",
   "execution_count": 54,
   "id": "83b13cd4-7fb8-4ac3-a10b-a6a4493f26f4",
   "metadata": {},
   "outputs": [
    {
     "data": {
      "text/plain": [
       "11"
      ]
     },
     "execution_count": 54,
     "metadata": {},
     "output_type": "execute_result"
    }
   ],
   "source": [
    "# len\n",
    "\n",
    "len('hello world')"
   ]
  },
  {
   "cell_type": "code",
   "execution_count": 56,
   "id": "b642076d-7c16-44a3-9f6f-0808a358c199",
   "metadata": {},
   "outputs": [
    {
     "data": {
      "text/plain": [
       "'w'"
      ]
     },
     "execution_count": 56,
     "metadata": {},
     "output_type": "execute_result"
    }
   ],
   "source": [
    "# max - it will select the max character based on aschi value\n",
    "\n",
    "max('hello world')"
   ]
  },
  {
   "cell_type": "code",
   "execution_count": 57,
   "id": "8d1d4a2c-dba4-4de0-af76-3e795835d520",
   "metadata": {},
   "outputs": [
    {
     "data": {
      "text/plain": [
       "'d'"
      ]
     },
     "execution_count": 57,
     "metadata": {},
     "output_type": "execute_result"
    }
   ],
   "source": [
    "min('helloworld')"
   ]
  },
  {
   "cell_type": "code",
   "execution_count": 60,
   "id": "d6bad2e9-db17-4e9d-a26a-dbd8f661aed1",
   "metadata": {},
   "outputs": [
    {
     "data": {
      "text/plain": [
       "[' ', 'd', 'e', 'h', 'l', 'l', 'l', 'o', 'o', 'r', 'w']"
      ]
     },
     "execution_count": 60,
     "metadata": {},
     "output_type": "execute_result"
    }
   ],
   "source": [
    "# sorted - it will do the sorting\n",
    "# ouptut is not string its list\n",
    "# values are sorted based on aschi values in ascending order\n",
    "\n",
    "sorted('hello world')\n"
   ]
  },
  {
   "cell_type": "code",
   "execution_count": 61,
   "id": "bcde5b71-f014-42e5-a4c5-68591ede4d9f",
   "metadata": {},
   "outputs": [
    {
     "data": {
      "text/plain": [
       "['w', 'r', 'o', 'o', 'l', 'l', 'l', 'h', 'e', 'd', ' ']"
      ]
     },
     "execution_count": 61,
     "metadata": {},
     "output_type": "execute_result"
    }
   ],
   "source": [
    "sorted('hello world', reverse=True)"
   ]
  },
  {
   "cell_type": "markdown",
   "id": "f1873db8-0ab6-448f-b9b9-64fab1864a5a",
   "metadata": {},
   "source": [
    "#### Functions Specific to Strings\n",
    "\n",
    "### Capitalize / Title / Upper / Lower / Swapcase\n",
    "\n",
    "- **`capitalize()`**: Capitalizes the first character of the string and converts the rest to lowercase.\n",
    "- **`title()`**: Capitalizes the first character of each word in the string.\n",
    "- **`upper()`**: Converts all characters in the string to uppercase.\n",
    "- **`lower()`**: Converts all characters in the string to lowercase.\n",
    "- **`swapcase()`**: Swaps the case of all characters in the string (uppercase to lowercase and vice versa).\n"
   ]
  },
  {
   "cell_type": "code",
   "execution_count": 82,
   "id": "ddbc5aba-4dd6-49d3-ae92-b29abc227560",
   "metadata": {},
   "outputs": [
    {
     "name": "stdout",
     "output_type": "stream",
     "text": [
      "hello world\n"
     ]
    },
    {
     "data": {
      "text/plain": [
       "'Hello world'"
      ]
     },
     "execution_count": 82,
     "metadata": {},
     "output_type": "execute_result"
    }
   ],
   "source": [
    "# capitalize = it will make first letter capital\n",
    "\n",
    "s = 'hello world'\n",
    "print(s)\n",
    "s.capitalize()\n",
    "\n",
    "# note: when we are applying a function theres no change in the original function\n",
    "# a new string is being formed in memory\n",
    "# same with other function as well"
   ]
  },
  {
   "cell_type": "code",
   "execution_count": 64,
   "id": "d1dd06e7-7ca0-43fd-8dad-23a95bbf53d6",
   "metadata": {},
   "outputs": [
    {
     "data": {
      "text/plain": [
       "'Hello World'"
      ]
     },
     "execution_count": 64,
     "metadata": {},
     "output_type": "execute_result"
    }
   ],
   "source": [
    "# Title - will make both letters capital\n",
    "\n",
    "s = 'hello world'\n",
    "s.title()"
   ]
  },
  {
   "cell_type": "code",
   "execution_count": 65,
   "id": "70e44f96-3767-450b-a4ea-8676a410f629",
   "metadata": {},
   "outputs": [
    {
     "data": {
      "text/plain": [
       "'HELLO WORLD'"
      ]
     },
     "execution_count": 65,
     "metadata": {},
     "output_type": "execute_result"
    }
   ],
   "source": [
    "s.upper()"
   ]
  },
  {
   "cell_type": "code",
   "execution_count": 66,
   "id": "3f478c2c-fab0-4133-80b4-e1c1e686a927",
   "metadata": {},
   "outputs": [
    {
     "data": {
      "text/plain": [
       "'hello world'"
      ]
     },
     "execution_count": 66,
     "metadata": {},
     "output_type": "execute_result"
    }
   ],
   "source": [
    "s.lower()"
   ]
  },
  {
   "cell_type": "code",
   "execution_count": 67,
   "id": "ec66db42-eda5-4ec5-9c57-0778d4ccf0aa",
   "metadata": {},
   "outputs": [
    {
     "data": {
      "text/plain": [
       "'HELLO WORLD'"
      ]
     },
     "execution_count": 67,
     "metadata": {},
     "output_type": "execute_result"
    }
   ],
   "source": [
    "s.swapcase()\n",
    "\n",
    "# it will make capital lower and lower capital"
   ]
  },
  {
   "cell_type": "markdown",
   "id": "a3fe38c2-f4cc-4ef8-abb9-72fbe2e77f48",
   "metadata": {},
   "source": [
    "### Count/Find/Index"
   ]
  },
  {
   "cell_type": "code",
   "execution_count": 68,
   "id": "4bbe609e-7587-4b5e-a697-7de465b153a2",
   "metadata": {},
   "outputs": [
    {
     "data": {
      "text/plain": [
       "3"
      ]
     },
     "execution_count": 68,
     "metadata": {},
     "output_type": "execute_result"
    }
   ],
   "source": [
    "'pandas is used for data manipulation'.count('s')"
   ]
  },
  {
   "cell_type": "code",
   "execution_count": 69,
   "id": "3e541b8b-9200-4de5-9ab0-d7e16b355b29",
   "metadata": {},
   "outputs": [
    {
     "data": {
      "text/plain": [
       "7"
      ]
     },
     "execution_count": 69,
     "metadata": {},
     "output_type": "execute_result"
    }
   ],
   "source": [
    " 'pandas is used for data manipulation'.find('is')"
   ]
  },
  {
   "cell_type": "code",
   "execution_count": 71,
   "id": "cd9a84f7-ee06-47fa-bb99-4716eaa6480c",
   "metadata": {},
   "outputs": [
    {
     "data": {
      "text/plain": [
       "-1"
      ]
     },
     "execution_count": 71,
     "metadata": {},
     "output_type": "execute_result"
    }
   ],
   "source": [
    "# if you try finding something that doesnt exist it will return -1\n",
    "\n",
    "'pandas is used for data manipulation'.find('z')"
   ]
  },
  {
   "cell_type": "code",
   "execution_count": 72,
   "id": "ba101a6f-f92c-4746-a549-dd7a954c2072",
   "metadata": {},
   "outputs": [
    {
     "data": {
      "text/plain": [
       "7"
      ]
     },
     "execution_count": 72,
     "metadata": {},
     "output_type": "execute_result"
    }
   ],
   "source": [
    "'pandas is used for data manipulation'.index('is')\n"
   ]
  },
  {
   "cell_type": "code",
   "execution_count": 73,
   "id": "56cb8686-3f38-4549-bc11-b464ae6c72c1",
   "metadata": {},
   "outputs": [
    {
     "ename": "ValueError",
     "evalue": "substring not found",
     "output_type": "error",
     "traceback": [
      "\u001b[1;31m---------------------------------------------------------------------------\u001b[0m",
      "\u001b[1;31mValueError\u001b[0m                                Traceback (most recent call last)",
      "Cell \u001b[1;32mIn[73], line 3\u001b[0m\n\u001b[0;32m      1\u001b[0m \u001b[38;5;66;03m# this will throw error\u001b[39;00m\n\u001b[1;32m----> 3\u001b[0m \u001b[38;5;124;43m'\u001b[39;49m\u001b[38;5;124;43mpandas is used for data manipulation\u001b[39;49m\u001b[38;5;124;43m'\u001b[39;49m\u001b[38;5;241;43m.\u001b[39;49m\u001b[43mindex\u001b[49m\u001b[43m(\u001b[49m\u001b[38;5;124;43m'\u001b[39;49m\u001b[38;5;124;43mz\u001b[39;49m\u001b[38;5;124;43m'\u001b[39;49m\u001b[43m)\u001b[49m\n",
      "\u001b[1;31mValueError\u001b[0m: substring not found"
     ]
    }
   ],
   "source": [
    "# this will throw error\n",
    "\n",
    "'pandas is used for data manipulation'.index('z')\n"
   ]
  },
  {
   "cell_type": "markdown",
   "id": "dd09b7b5-dac1-4229-bf4c-16d0853733da",
   "metadata": {},
   "source": [
    "### endswith/startswith"
   ]
  },
  {
   "cell_type": "code",
   "execution_count": 74,
   "id": "28bbe4c2-5799-40c2-81e6-5498453d92a0",
   "metadata": {},
   "outputs": [
    {
     "data": {
      "text/plain": [
       "False"
      ]
     },
     "execution_count": 74,
     "metadata": {},
     "output_type": "execute_result"
    }
   ],
   "source": [
    "'pandas is used for data manipulation'.endswith('z')\n"
   ]
  },
  {
   "cell_type": "code",
   "execution_count": 76,
   "id": "fe354e06-d378-4119-9de6-8f75fb05c02c",
   "metadata": {},
   "outputs": [
    {
     "data": {
      "text/plain": [
       "True"
      ]
     },
     "execution_count": 76,
     "metadata": {},
     "output_type": "execute_result"
    }
   ],
   "source": [
    "'pandas is used for data manipulation'.startswith('pan')\n"
   ]
  },
  {
   "cell_type": "markdown",
   "id": "9c4b4b9e-4b5e-4dc8-af12-9259d9936109",
   "metadata": {},
   "source": [
    "### format\n",
    "\n"
   ]
  },
  {
   "cell_type": "code",
   "execution_count": 78,
   "id": "fbc2650f-66a3-499c-a1d8-5cc876c6476c",
   "metadata": {},
   "outputs": [
    {
     "data": {
      "text/plain": [
       "'Hi my name is saurabh and i am a student'"
      ]
     },
     "execution_count": 78,
     "metadata": {},
     "output_type": "execute_result"
    }
   ],
   "source": [
    "name  = 'saurabh'\n",
    "occupation = 'student'\n",
    "\n",
    "'Hi my name is {} and i am a {}'.format(name,occupation)"
   ]
  },
  {
   "cell_type": "code",
   "execution_count": 81,
   "id": "58f2f3ee-541e-4513-bec2-b4214f3e1f8f",
   "metadata": {},
   "outputs": [
    {
     "data": {
      "text/plain": [
       "'Hi my name is saurabh and i am a student'"
      ]
     },
     "execution_count": 81,
     "metadata": {},
     "output_type": "execute_result"
    }
   ],
   "source": [
    "'Hi my name is {1} and i am a {0}'.format(occupation,name)\n",
    "\n",
    "# we can decide the position as per our convenience"
   ]
  },
  {
   "cell_type": "markdown",
   "id": "034d8622-5c41-4e49-99c1-cb226373edda",
   "metadata": {},
   "source": [
    "### `isalpha()` / `isdigit()` / `isalnum()` / `isidentifier()`\n",
    "\n",
    "- **`isalpha()`**: Checks if all characters in the string are alphabetic (i.e., letters only).\n",
    "- **`isdigit()`**: Checks if all characters in the string are digits (i.e., numeric characters only).\n",
    "- **`isalnum()`**: Checks if all characters in the string are alphanumeric (i.e., letters and/or digits).\n",
    "- **`isidentifier()`**: Checks if the string is a valid identifier (i.e., it follows the rules for variable names in Python).\n"
   ]
  },
  {
   "cell_type": "code",
   "execution_count": 86,
   "id": "83339c8b-8416-4927-a47e-8ff3add23da7",
   "metadata": {},
   "outputs": [
    {
     "data": {
      "text/plain": [
       "True"
      ]
     },
     "execution_count": 86,
     "metadata": {},
     "output_type": "execute_result"
    }
   ],
   "source": [
    "'python36'.isalnum()"
   ]
  },
  {
   "cell_type": "code",
   "execution_count": 89,
   "id": "75a6d97e-1010-42f1-8588-2f180bb7fcd4",
   "metadata": {},
   "outputs": [
    {
     "data": {
      "text/plain": [
       "True"
      ]
     },
     "execution_count": 89,
     "metadata": {},
     "output_type": "execute_result"
    }
   ],
   "source": [
    "# checks if everything is alpha or not\n",
    "'python'.isalpha()"
   ]
  },
  {
   "cell_type": "code",
   "execution_count": 91,
   "id": "28f14fc9-9ad3-400a-bbcc-1bb751c0fc7d",
   "metadata": {},
   "outputs": [
    {
     "data": {
      "text/plain": [
       "True"
      ]
     },
     "execution_count": 91,
     "metadata": {},
     "output_type": "execute_result"
    }
   ],
   "source": [
    "'1234'.isdigit()"
   ]
  },
  {
   "cell_type": "code",
   "execution_count": 93,
   "id": "5eb1fe5b-af25-4620-b394-7332386d058d",
   "metadata": {},
   "outputs": [
    {
     "data": {
      "text/plain": [
       "False"
      ]
     },
     "execution_count": 93,
     "metadata": {},
     "output_type": "execute_result"
    }
   ],
   "source": [
    "'1name'.isidentifier()\n",
    "# it check if its the valid identifier or nor"
   ]
  },
  {
   "cell_type": "code",
   "execution_count": 94,
   "id": "2f7aac74-4ea0-400f-a92a-e2ae036fc97d",
   "metadata": {},
   "outputs": [
    {
     "data": {
      "text/plain": [
       "True"
      ]
     },
     "execution_count": 94,
     "metadata": {},
     "output_type": "execute_result"
    }
   ],
   "source": [
    "'name1'.isidentifier()\n"
   ]
  },
  {
   "cell_type": "markdown",
   "id": "c145a29d-53d1-4ff6-bf45-6590ad6401a1",
   "metadata": {},
   "source": [
    "### split/join\n",
    "\n",
    "- `split` breaks a given sentence word by word and adds it to a Python list.\n",
    "- `join` is the reverse operation where you join words to form a sentence.\n"
   ]
  },
  {
   "cell_type": "code",
   "execution_count": 96,
   "id": "31cab956-dded-4a9f-a833-b20b2cf04298",
   "metadata": {},
   "outputs": [
    {
     "data": {
      "text/plain": [
       "['pandas', 'is', 'used', 'for', 'data', 'manipulation']"
      ]
     },
     "execution_count": 96,
     "metadata": {},
     "output_type": "execute_result"
    }
   ],
   "source": [
    "'pandas is used for data manipulation'.split()\n"
   ]
  },
  {
   "cell_type": "code",
   "execution_count": 97,
   "id": "ae500262-abc5-448f-a120-87b1222d40f1",
   "metadata": {},
   "outputs": [
    {
     "data": {
      "text/plain": [
       "['pandas ', 's used for data man', 'pulat', 'on']"
      ]
     },
     "execution_count": 97,
     "metadata": {},
     "output_type": "execute_result"
    }
   ],
   "source": [
    "'pandas is used for data manipulation'.split('i')\n"
   ]
  },
  {
   "cell_type": "code",
   "execution_count": 98,
   "id": "8c26b1f5-604b-4fc9-8db1-470a2cf3e817",
   "metadata": {},
   "outputs": [
    {
     "data": {
      "text/plain": [
       "['pandas is used for ', ' manipulation']"
      ]
     },
     "execution_count": 98,
     "metadata": {},
     "output_type": "execute_result"
    }
   ],
   "source": [
    "'pandas is used for data manipulation'.split('data')\n"
   ]
  },
  {
   "cell_type": "code",
   "execution_count": 99,
   "id": "e6475e6a-e8ad-4256-807a-ad6caf6a8e25",
   "metadata": {},
   "outputs": [
    {
     "data": {
      "text/plain": [
       "'pandas is used for data manipulation'"
      ]
     },
     "execution_count": 99,
     "metadata": {},
     "output_type": "execute_result"
    }
   ],
   "source": [
    "\" \".join(['pandas', 'is', 'used', 'for', 'data', 'manipulation'])"
   ]
  },
  {
   "cell_type": "code",
   "execution_count": 100,
   "id": "4ad1af6b-19b7-49bd-af75-c55cf8e07358",
   "metadata": {},
   "outputs": [
    {
     "data": {
      "text/plain": [
       "'pandas - is - used - for - data - manipulation'"
      ]
     },
     "execution_count": 100,
     "metadata": {},
     "output_type": "execute_result"
    }
   ],
   "source": [
    "\" - \".join(['pandas', 'is', 'used', 'for', 'data', 'manipulation'])"
   ]
  },
  {
   "cell_type": "markdown",
   "id": "0014f0dd-8771-4491-812c-01c5bf5c7bba",
   "metadata": {},
   "source": [
    "### replace\n",
    "- replaces a particular substring"
   ]
  },
  {
   "cell_type": "code",
   "execution_count": 102,
   "id": "4d0c89c9-b57c-4930-8b2b-08fb067394e7",
   "metadata": {},
   "outputs": [
    {
     "data": {
      "text/plain": [
       "'pandas is used for data manipulation'"
      ]
     },
     "execution_count": 102,
     "metadata": {},
     "output_type": "execute_result"
    }
   ],
   "source": [
    "'pandas is used for data manipulate'.replace('manipulate','manipulation')\n"
   ]
  },
  {
   "cell_type": "markdown",
   "id": "4ebe06ec-5572-492f-a600-7f2d7e1021b4",
   "metadata": {},
   "source": [
    "### strip\n",
    "- it removes all trailing spacesspaces"
   ]
  },
  {
   "cell_type": "code",
   "execution_count": 107,
   "id": "6f5c4fac-cc40-4c78-b3ee-a9af1d7b325f",
   "metadata": {},
   "outputs": [
    {
     "data": {
      "text/plain": [
       "'                     python 3.6                          '"
      ]
     },
     "execution_count": 107,
     "metadata": {},
     "output_type": "execute_result"
    }
   ],
   "source": [
    "'                     python 3.6                          '"
   ]
  },
  {
   "cell_type": "code",
   "execution_count": 108,
   "id": "773dca74-5b5f-4c18-afa6-5eaeba3e89a8",
   "metadata": {},
   "outputs": [
    {
     "data": {
      "text/plain": [
       "'python  3.6'"
      ]
     },
     "execution_count": 108,
     "metadata": {},
     "output_type": "execute_result"
    }
   ],
   "source": [
    "'                     python  3.6                        '.strip()"
   ]
  },
  {
   "cell_type": "markdown",
   "id": "f25f3a3b-703f-493e-9fc8-d2780c78771c",
   "metadata": {},
   "source": [
    "###  Tasks:"
   ]
  },
  {
   "cell_type": "markdown",
   "id": "b1af5499-deb3-4ca2-bd85-2aeed1693d39",
   "metadata": {},
   "source": [
    "#### find the length of a given string without using the len() function"
   ]
  },
  {
   "cell_type": "code",
   "execution_count": 10,
   "id": "4fc4971b-bf3c-43a4-b2fa-4795bff20794",
   "metadata": {},
   "outputs": [
    {
     "name": "stdin",
     "output_type": "stream",
     "text": [
      "enter string: pandas is used for data manipulation\n"
     ]
    },
    {
     "name": "stdout",
     "output_type": "stream",
     "text": [
      "length of given string is: 36\n"
     ]
    }
   ],
   "source": [
    "s = input('enter string:')\n",
    "\n",
    "counter = 0\n",
    "for i in s:\n",
    "    counter += 1\n",
    "    \n",
    "print('length of given string is:',counter)"
   ]
  },
  {
   "cell_type": "markdown",
   "id": "5b4f3192-b32c-4e6f-a32b-641642199803",
   "metadata": {},
   "source": [
    "#### extract username from a giveen email\n",
    "- eg. if username is: saurabhchavan0717@gmail.com\n",
    "- then username would be saurabhchavan0717"
   ]
  },
  {
   "cell_type": "code",
   "execution_count": 14,
   "id": "90a9b236-3024-4c1b-a519-9d6067ee6264",
   "metadata": {},
   "outputs": [
    {
     "name": "stdin",
     "output_type": "stream",
     "text": [
      "enter email saurabhchavan0717@gmail.com\n"
     ]
    },
    {
     "name": "stdout",
     "output_type": "stream",
     "text": [
      "saurabhchavan0717\n"
     ]
    }
   ],
   "source": [
    "email = input('enter email')\n",
    "split = email.split('@')\n",
    "user = split[0]\n",
    "print(user)"
   ]
  },
  {
   "cell_type": "markdown",
   "id": "28182082-a375-44ac-80e2-65681447d8a3",
   "metadata": {},
   "source": [
    "#### without using split\n",
    "- find @ position \n",
    "- do the slicing"
   ]
  },
  {
   "cell_type": "code",
   "execution_count": 19,
   "id": "d3c6dfe5-0c0a-4949-bfd0-7446a02b3f29",
   "metadata": {},
   "outputs": [
    {
     "name": "stdin",
     "output_type": "stream",
     "text": [
      "enter email saurabhchavan0717@gmail.com\n"
     ]
    },
    {
     "name": "stdout",
     "output_type": "stream",
     "text": [
      "saurabhchavan0717\n"
     ]
    }
   ],
   "source": [
    "email = input('enter email')\n",
    "position = email.index('@')\n",
    "print(email[0:position])"
   ]
  },
  {
   "cell_type": "markdown",
   "id": "c9bc79c5-3fd9-47c6-b5d9-2321fec7d452",
   "metadata": {},
   "source": [
    "#### count the frequency of a particular character in a provided string.\n",
    "- eg. 'python is a programming' is the string, the frequency of p in this string is 2"
   ]
  },
  {
   "cell_type": "code",
   "execution_count": 33,
   "id": "b2c4ae88-1eb9-45e2-9dfb-732cd679e6dd",
   "metadata": {},
   "outputs": [
    {
     "name": "stdin",
     "output_type": "stream",
     "text": [
      "enter any sentence: python is a programming language\n",
      "what would you like to search for p\n"
     ]
    },
    {
     "name": "stdout",
     "output_type": "stream",
     "text": [
      "frequency of p is: 2\n"
     ]
    }
   ],
   "source": [
    "s = input('enter any sentence:')\n",
    "char = input('what would you like to search for')\n",
    "\n",
    "counter = 0\n",
    "for i in s:\n",
    "    if i == char:\n",
    "        counter += 1\n",
    "c = 'frequency of {} is:'.format(char)\n",
    "print(c, counter)"
   ]
  },
  {
   "cell_type": "markdown",
   "id": "05a8eaac-a792-4e14-b3fd-a20a4ce5d167",
   "metadata": {},
   "source": [
    "#### Write a program which can remove a particular character from a string\n",
    "\n",
    "- Strings are immutable in Python.\n",
    "- Thus, we cannot directly remove a character from a string.\n",
    "- Instead, we need to create a new string, excluding the character we want to remove, and include the rest of the characters.\n"
   ]
  },
  {
   "cell_type": "code",
   "execution_count": 40,
   "id": "e39dc8b1-1633-4a9a-a0bd-fb782a4ba501",
   "metadata": {},
   "outputs": [
    {
     "name": "stdin",
     "output_type": "stream",
     "text": [
      "enter the string : hello world\n",
      "what would you like to remove : l\n"
     ]
    },
    {
     "name": "stdout",
     "output_type": "stream",
     "text": [
      "result after removing 'l': heo word\n"
     ]
    }
   ],
   "source": [
    "s = input('enter the string :')\n",
    "term = input('what would you like to remove :')\n",
    "\n",
    "result = ''\n",
    "r = \"result after removing '{}':\".format(term)\n",
    "for i in s:\n",
    "    if i != term:\n",
    "        result = result + i\n",
    "\n",
    "print(r,result)"
   ]
  },
  {
   "cell_type": "markdown",
   "id": "9cc3a7ee-a28e-45a2-8f8e-ee1ec6479cd4",
   "metadata": {},
   "source": [
    "#### Write a program that can check whether a given string is a palindrome or not\n",
    "\n",
    "- Palindromes are strings that read the same forward and backward.\n",
    "- Examples of palindromes include \"racecar\" and \"radar\".\n"
   ]
  },
  {
   "cell_type": "code",
   "execution_count": 42,
   "id": "d360f3a9-9d86-4df5-8b9b-7c0b50e5e807",
   "metadata": {},
   "outputs": [
    {
     "name": "stdin",
     "output_type": "stream",
     "text": [
      "enter a string racecar\n"
     ]
    },
    {
     "name": "stdout",
     "output_type": "stream",
     "text": [
      "palindrome\n"
     ]
    }
   ],
   "source": [
    "s = input('enter a string')\n",
    "flag = True\n",
    "\n",
    "for i in range(0,len(s)//2):\n",
    "    if s[i] != s[len(s) - i - 1]:\n",
    "        flag = False\n",
    "        break\n",
    "\n",
    "if flag == True:\n",
    "    print('palindrome')\n",
    "    "
   ]
  },
  {
   "cell_type": "markdown",
   "id": "0a041af4-b7c1-4b4f-9e30-4ee890066591",
   "metadata": {},
   "source": [
    "#### write a program to count the number of words in a string without split()"
   ]
  },
  {
   "cell_type": "code",
   "execution_count": 47,
   "id": "0698b3d7-2eab-4eed-8201-9d7ef91d5a5b",
   "metadata": {},
   "outputs": [
    {
     "name": "stdin",
     "output_type": "stream",
     "text": [
      "enter string hello world\n"
     ]
    },
    {
     "name": "stdout",
     "output_type": "stream",
     "text": [
      "List of words: ['hello', 'world']\n",
      "Number of words: 2\n"
     ]
    }
   ],
   "source": [
    "s = input('enter string')\n",
    "\n",
    "L = []\n",
    "temp = ''\n",
    "\n",
    "for i in s:\n",
    "    \n",
    "    if i != ' ':\n",
    "        temp = temp + i\n",
    "    else:\n",
    "        L.append(temp)\n",
    "        temp = ''\n",
    "L.append(temp) # append the last word\n",
    "\n",
    "count = 0 \n",
    "\n",
    "for i in L:\n",
    "    if i: # Check if the string is not empty\n",
    "        count += 1 # Increment the word count\n",
    "    \n",
    "print(f'List of words: {L}')\n",
    "print(f'Number of words: {count}')"
   ]
  },
  {
   "cell_type": "markdown",
   "id": "3714d26f-de4b-405e-b8c8-15b7c69d5bf2",
   "metadata": {},
   "source": [
    "#### write a program to convert a string to title case without using the title()"
   ]
  },
  {
   "cell_type": "code",
   "execution_count": 50,
   "id": "feb961d3-a182-458c-9f47-3bdc63e18771",
   "metadata": {},
   "outputs": [
    {
     "name": "stdin",
     "output_type": "stream",
     "text": [
      "enter the string: python is a programming lang\n"
     ]
    },
    {
     "name": "stdout",
     "output_type": "stream",
     "text": [
      "Python Is A Programming Lang\n"
     ]
    }
   ],
   "source": [
    "s = input('enter the string:')\n",
    "\n",
    "L = []\n",
    "for i in s.split():\n",
    "    L.append(i[0].upper() + i[1:].lower())\n",
    "    \n",
    "print(\" \".join(L))"
   ]
  },
  {
   "cell_type": "code",
   "execution_count": 52,
   "id": "85992acc-20b8-4b4b-89c0-ea645a0079b4",
   "metadata": {},
   "outputs": [],
   "source": [
    "# L =[]\n",
    "# s = 'python is a programming lang'\n",
    "# L = s.split()"
   ]
  },
  {
   "cell_type": "code",
   "execution_count": 54,
   "id": "834c2daf-d29c-4064-a0c2-0fff92cfc209",
   "metadata": {},
   "outputs": [
    {
     "data": {
      "text/plain": [
       "['python', 'is', 'a', 'programming', 'lang']"
      ]
     },
     "execution_count": 54,
     "metadata": {},
     "output_type": "execute_result"
    }
   ],
   "source": [
    "# L"
   ]
  },
  {
   "cell_type": "code",
   "execution_count": 56,
   "id": "89760678-a6f7-42ee-8805-c69ba6f19619",
   "metadata": {},
   "outputs": [
    {
     "data": {
      "text/plain": [
       "['is', 'a', 'programming', 'lang']"
      ]
     },
     "execution_count": 56,
     "metadata": {},
     "output_type": "execute_result"
    }
   ],
   "source": [
    "# L[1:]"
   ]
  },
  {
   "cell_type": "markdown",
   "id": "c879bc92-a940-496d-9347-3b53d71c1b47",
   "metadata": {},
   "source": [
    "#### Write a program that can convert an integer to string"
   ]
  },
  {
   "cell_type": "code",
   "execution_count": 63,
   "id": "d075cf51-4ac0-4fbc-bead-1257499df44f",
   "metadata": {},
   "outputs": [
    {
     "name": "stdin",
     "output_type": "stream",
     "text": [
      "Enter the number:  177\n"
     ]
    },
    {
     "name": "stdout",
     "output_type": "stream",
     "text": [
      "177\n",
      "<class 'str'>\n"
     ]
    }
   ],
   "source": [
    "number = int(input('Enter the number: '))\n",
    "\n",
    "# A string containing all possible digits (0-9)\n",
    "digits = '0123456789'\n",
    "\n",
    "# Initialize an empty string to store the result (converted string)\n",
    "result = ''\n",
    "\n",
    "# Continue looping until the number is reduced to 0\n",
    "while number != 0:\n",
    "    # Extract the last digit of the number using modulo 10\n",
    "    # Find the corresponding character from the 'digits' string and prepend it to the 'result'\n",
    "    result = digits[number % 10] + result\n",
    "    \n",
    "    # Remove the last digit from the number by performing integer division by 10\n",
    "    number = number // 10\n",
    "\n",
    "print(result)\n",
    "print(type(result))\n"
   ]
  },
  {
   "cell_type": "code",
   "execution_count": null,
   "id": "8ff00bf8-df3f-4a5c-9db1-cb046199ce35",
   "metadata": {},
   "outputs": [],
   "source": []
  }
 ],
 "metadata": {
  "kernelspec": {
   "display_name": "Python 3 (ipykernel)",
   "language": "python",
   "name": "python3"
  },
  "language_info": {
   "codemirror_mode": {
    "name": "ipython",
    "version": 3
   },
   "file_extension": ".py",
   "mimetype": "text/x-python",
   "name": "python",
   "nbconvert_exporter": "python",
   "pygments_lexer": "ipython3",
   "version": "3.10.9"
  }
 },
 "nbformat": 4,
 "nbformat_minor": 5
}
