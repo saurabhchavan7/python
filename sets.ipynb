{
 "cells": [
  {
   "cell_type": "markdown",
   "id": "00af18f6-c452-4abe-8de8-d20edca0fe58",
   "metadata": {},
   "source": [
    "# Sets\n",
    "\n",
    "Set theory was studied in mathematics. python has converted this mathematical concept into data type\n",
    "\n",
    "A set is an unordered collection of items(until now we studied lists tuple were ordered there order matters). Every set element is unique (no duplicates) and must be immutable (cannot be changed).\n",
    "\n",
    "However, a set itself is mutable. We can add or remove items from it.\n",
    "\n",
    "Sets can also be used to perform mathematical set operations like union, intersection, symmetric difference, etc.\n",
    "\n",
    "Characterstics:\n",
    "- Unordered - set is unordered which means 1,2,3 = 3,2,1\n",
    "- Mutable - inside set we can add or delete items basically we can do changes after creating a seet\n",
    "- No Duplicates inside a set\n",
    "- Can't contain mutable data types - set itself is mutable i.e we can add or delete inside set but inside set we cannot keep any mutable data type gor eg set within set i.e 2d set is not possible"
   ]
  },
  {
   "cell_type": "markdown",
   "id": "b52f879d-38de-4ed3-8835-585f6714bff9",
   "metadata": {},
   "source": [
    "### Creating Sets\n",
    "\n",
    "- **Curly Brackets Denote Sets and Dicts**\n",
    "\n",
    "  In Python, curly brackets `{}` are used to define both sets and dictionaries. However, by default, Python interprets curly brackets as dictionaries. To explicitly create an empty set, use the `set()` constructor:\n"
   ]
  },
  {
   "cell_type": "code",
   "execution_count": 2,
   "id": "7f679b82-1037-4596-9a72-0ae6a564120c",
   "metadata": {},
   "outputs": [
    {
     "name": "stdout",
     "output_type": "stream",
     "text": [
      "<class 'dict'>\n"
     ]
    }
   ],
   "source": [
    "# empty\n",
    "s = {}\n",
    "print(type(s))"
   ]
  },
  {
   "cell_type": "code",
   "execution_count": 3,
   "id": "736f97bc-4afd-49ab-a927-b31a68d181df",
   "metadata": {},
   "outputs": [
    {
     "name": "stdout",
     "output_type": "stream",
     "text": [
      "set()\n",
      "<class 'set'>\n"
     ]
    }
   ],
   "source": [
    "# empty\n",
    "s = set()\n",
    "print(s)\n",
    "print(type(s))"
   ]
  },
  {
   "cell_type": "code",
   "execution_count": 4,
   "id": "4a0db469-96e8-4769-b578-b0dc9e0beaeb",
   "metadata": {},
   "outputs": [
    {
     "name": "stdout",
     "output_type": "stream",
     "text": [
      "{1, 2, 3}\n"
     ]
    }
   ],
   "source": [
    "# 1D \n",
    "s1 = {1,2,3}\n",
    "print(s1)"
   ]
  },
  {
   "cell_type": "code",
   "execution_count": 5,
   "id": "3b45c4e5-a24c-4eed-8098-21ee653b977c",
   "metadata": {},
   "outputs": [
    {
     "ename": "TypeError",
     "evalue": "unhashable type: 'set'",
     "output_type": "error",
     "traceback": [
      "\u001b[1;31m---------------------------------------------------------------------------\u001b[0m",
      "\u001b[1;31mTypeError\u001b[0m                                 Traceback (most recent call last)",
      "Cell \u001b[1;32mIn[5], line 2\u001b[0m\n\u001b[0;32m      1\u001b[0m \u001b[38;5;66;03m# 2D set as discussed is not possible\u001b[39;00m\n\u001b[1;32m----> 2\u001b[0m s2 \u001b[38;5;241m=\u001b[39m {\u001b[38;5;241m1\u001b[39m,\u001b[38;5;241m2\u001b[39m,\u001b[38;5;241m3\u001b[39m,{\u001b[38;5;241m4\u001b[39m,\u001b[38;5;241m5\u001b[39m}}\n\u001b[0;32m      3\u001b[0m \u001b[38;5;28mprint\u001b[39m(s2)\n",
      "\u001b[1;31mTypeError\u001b[0m: unhashable type: 'set'"
     ]
    }
   ],
   "source": [
    "# 2D set as discussed is not possible\n",
    "s2 = {1,2,3,{4,5}}\n",
    "print(s2)"
   ]
  },
  {
   "cell_type": "code",
   "execution_count": 7,
   "id": "e114e475-2b73-4edc-b775-b5d975b5e54a",
   "metadata": {},
   "outputs": [
    {
     "name": "stdout",
     "output_type": "stream",
     "text": [
      "{1, 'hello'}\n"
     ]
    }
   ],
   "source": [
    "s3 = {1,'hello',True}\n",
    "print(s3)\n"
   ]
  },
  {
   "cell_type": "markdown",
   "id": "6ef44100-6146-43fc-900c-df8cd7154bd6",
   "metadata": {},
   "source": [
    "- **Reason for Absence of `True` in Set Output**\n",
    "\n",
    "  The reason why `True` is not printed in the set is that Python considers `True` as equivalent to `1`. Since sets do not allow duplicate values, and `1` is already present in the set, `True` is effectively treated as a duplicate and hence not included.\n"
   ]
  },
  {
   "cell_type": "code",
   "execution_count": 6,
   "id": "8bbd68da-8db2-4df0-896c-df092ed3f034",
   "metadata": {},
   "outputs": [
    {
     "name": "stdout",
     "output_type": "stream",
     "text": [
      "{1, (1, 2, 3), 4.5, 'hello'}\n"
     ]
    }
   ],
   "source": [
    "# homo and hetro\n",
    "s3 = {1,'hello',4.5,(1,2,3)}\n",
    "print(s3)"
   ]
  },
  {
   "cell_type": "markdown",
   "id": "9b9a7ca5-782e-4434-a5d1-3136d7d622c6",
   "metadata": {},
   "source": [
    "- **Order in Sets**\n",
    "\n",
    "  - The order of elements in a set may change. This is because sets are unordered collections.\n",
    "\n",
    "  - **Sets Are Unordered**\n",
    "\n",
    "    Sets do not maintain any specific order for their elements. The order in which items are displayed or accessed may vary.\n",
    "\n",
    "  - **Hashing and Internal Order**\n",
    "\n",
    "    Internally, sets use an algorithm known as hashing to manage their elements. Hashing determines which position an item will occupy within the set.\n",
    "\n",
    "    - **Hashing Algorithm**\n",
    "\n",
    "      Hashing is responsible for deciding the placement of each item in the set. This ensures that each item is unique and facilitates efficient lookups.\n",
    "\n",
    "    - **No Control Over Order**\n",
    "\n",
    "      Due to the hashing mechanism, the order of items in a set cannot be controlled or predicted.\n"
   ]
  },
  {
   "cell_type": "code",
   "execution_count": 8,
   "id": "c15990d0-937e-4578-8a4b-8d721e24df90",
   "metadata": {},
   "outputs": [
    {
     "name": "stdout",
     "output_type": "stream",
     "text": [
      "{1, 2, 3}\n"
     ]
    }
   ],
   "source": [
    "# using type conversion\n",
    "\n",
    "s4 = set([1,2,3])\n",
    "print(s4)"
   ]
  },
  {
   "cell_type": "code",
   "execution_count": 9,
   "id": "0e2548ca-9f41-472e-8da1-07248616aef4",
   "metadata": {},
   "outputs": [
    {
     "name": "stdout",
     "output_type": "stream",
     "text": [
      "{1, 2, 3}\n"
     ]
    }
   ],
   "source": [
    "# duplicates not allowed\n",
    "s5 = {1,1,2,2,3,3}\n",
    "print(s5)"
   ]
  },
  {
   "cell_type": "code",
   "execution_count": 10,
   "id": "2e1c7367-abed-4195-b836-47900ad10acc",
   "metadata": {},
   "outputs": [
    {
     "ename": "TypeError",
     "evalue": "unhashable type: 'list'",
     "output_type": "error",
     "traceback": [
      "\u001b[1;31m---------------------------------------------------------------------------\u001b[0m",
      "\u001b[1;31mTypeError\u001b[0m                                 Traceback (most recent call last)",
      "Cell \u001b[1;32mIn[10], line 2\u001b[0m\n\u001b[0;32m      1\u001b[0m \u001b[38;5;66;03m# set can't have mutable items\u001b[39;00m\n\u001b[1;32m----> 2\u001b[0m s6 \u001b[38;5;241m=\u001b[39m {\u001b[38;5;241m1\u001b[39m,\u001b[38;5;241m2\u001b[39m,[\u001b[38;5;241m3\u001b[39m,\u001b[38;5;241m4\u001b[39m]}\n\u001b[0;32m      3\u001b[0m \u001b[38;5;28mprint\u001b[39m(s6)\n",
      "\u001b[1;31mTypeError\u001b[0m: unhashable type: 'list'"
     ]
    }
   ],
   "source": [
    "# set can't have mutable items\n",
    "s6 = {1,2,[3,4]}\n",
    "print(s6)"
   ]
  },
  {
   "cell_type": "code",
   "execution_count": 11,
   "id": "a1f55894-940e-4d51-8781-45a11ab1a2e3",
   "metadata": {},
   "outputs": [
    {
     "name": "stdout",
     "output_type": "stream",
     "text": [
      "True\n"
     ]
    }
   ],
   "source": [
    "s1 = {1,2,3}\n",
    "s2 = {3,2,1}\n",
    "\n",
    "print(s1 == s2)"
   ]
  },
  {
   "cell_type": "markdown",
   "id": "efe3522d-f877-4853-9dc7-2dd14931311a",
   "metadata": {},
   "source": [
    "- since order doesnt matter in set "
   ]
  },
  {
   "cell_type": "markdown",
   "id": "1b84d2a8-9206-4b60-a4cf-5abb956a8949",
   "metadata": {},
   "source": [
    "### Accessing Items"
   ]
  },
  {
   "cell_type": "code",
   "execution_count": 13,
   "id": "661e5d93-a068-4eda-aa40-e8f6b402bf59",
   "metadata": {},
   "outputs": [
    {
     "ename": "TypeError",
     "evalue": "'set' object is not subscriptable",
     "output_type": "error",
     "traceback": [
      "\u001b[1;31m---------------------------------------------------------------------------\u001b[0m",
      "\u001b[1;31mTypeError\u001b[0m                                 Traceback (most recent call last)",
      "Cell \u001b[1;32mIn[13], line 2\u001b[0m\n\u001b[0;32m      1\u001b[0m s1 \u001b[38;5;241m=\u001b[39m {\u001b[38;5;241m1\u001b[39m,\u001b[38;5;241m2\u001b[39m,\u001b[38;5;241m3\u001b[39m,\u001b[38;5;241m4\u001b[39m}\n\u001b[1;32m----> 2\u001b[0m \u001b[43ms1\u001b[49m\u001b[43m[\u001b[49m\u001b[38;5;241;43m0\u001b[39;49m\u001b[43m:\u001b[49m\u001b[38;5;241;43m3\u001b[39;49m\u001b[43m]\u001b[49m\n",
      "\u001b[1;31mTypeError\u001b[0m: 'set' object is not subscriptable"
     ]
    }
   ],
   "source": [
    "s1 = {1,2,3,4}\n",
    "s1[0:3]"
   ]
  },
  {
   "cell_type": "markdown",
   "id": "8a8aa11c-d60a-407c-8617-496977618251",
   "metadata": {},
   "source": [
    "- **Indexing and Slicing in Sets**\n",
    "\n",
    "  - **'set' Object Is Not Subscriptable**\n",
    "\n",
    "    Sets do not support indexing or slicing. Attempting to access elements using an index will result in a `TypeError`.\n",
    "\n",
    " - **Indexing/Slicing Not Possible**\n",
    "\n",
    "    Since sets are unordered collections, indexing or slicing, which relies on a fixed order of elements, is not applicable. Accessing elements by position is not supported.\n",
    "\n",
    "\n",
    "\n",
    "\n",
    "\n",
    "\n",
    "\n",
    "\n"
   ]
  },
  {
   "cell_type": "markdown",
   "id": "e3765e7e-ce28-4fc3-b5d0-b61a8ccc403a",
   "metadata": {},
   "source": [
    "### Editing Items"
   ]
  },
  {
   "cell_type": "code",
   "execution_count": 15,
   "id": "2191d433-fe3f-4774-aa7f-270c548735e1",
   "metadata": {},
   "outputs": [
    {
     "ename": "TypeError",
     "evalue": "'set' object does not support item assignment",
     "output_type": "error",
     "traceback": [
      "\u001b[1;31m---------------------------------------------------------------------------\u001b[0m",
      "\u001b[1;31mTypeError\u001b[0m                                 Traceback (most recent call last)",
      "Cell \u001b[1;32mIn[15], line 2\u001b[0m\n\u001b[0;32m      1\u001b[0m s1 \u001b[38;5;241m=\u001b[39m {\u001b[38;5;241m1\u001b[39m,\u001b[38;5;241m2\u001b[39m,\u001b[38;5;241m3\u001b[39m,\u001b[38;5;241m4\u001b[39m}\n\u001b[1;32m----> 2\u001b[0m s1[\u001b[38;5;241m0\u001b[39m] \u001b[38;5;241m=\u001b[39m \u001b[38;5;241m100\u001b[39m\n",
      "\u001b[1;31mTypeError\u001b[0m: 'set' object does not support item assignment"
     ]
    }
   ],
   "source": [
    "s1 = {1,2,3,4}\n",
    "s1[0] = 100"
   ]
  },
  {
   "cell_type": "markdown",
   "id": "934e67bb-41d4-494a-93ef-6ea7310b6d40",
   "metadata": {},
   "source": [
    "- now since indexing doesnt work hence editing will also not work"
   ]
  },
  {
   "cell_type": "markdown",
   "id": "21d368e6-533b-414f-a415-7253a75549c1",
   "metadata": {},
   "source": [
    "### Adding Items"
   ]
  },
  {
   "cell_type": "code",
   "execution_count": 17,
   "id": "457d8e93-9e78-43ed-bf46-cf397d4b8ec0",
   "metadata": {},
   "outputs": [
    {
     "name": "stdout",
     "output_type": "stream",
     "text": [
      "{1, 2, 3, 4, 5}\n"
     ]
    }
   ],
   "source": [
    "S = {1,2,3,4}\n",
    "# add\n",
    "S.add(5)\n",
    "print(S)\n"
   ]
  },
  {
   "cell_type": "code",
   "execution_count": null,
   "id": "6d4f1cf3-4099-42c8-bf3f-bc72ec870c84",
   "metadata": {},
   "outputs": [],
   "source": [
    "# update\n",
    "S.update([5,6,7])\n",
    "print(S)"
   ]
  },
  {
   "cell_type": "markdown",
   "id": "bc388ac2-8daf-43e8-8130-c306a8113fbe",
   "metadata": {},
   "source": [
    "- we cann add and delete itesm in set\n",
    "- using update we can add multiple items in one go"
   ]
  },
  {
   "cell_type": "markdown",
   "id": "16e0cc14-c75a-4e61-8081-233225b8ed48",
   "metadata": {},
   "source": [
    "### Deleting Items"
   ]
  },
  {
   "cell_type": "code",
   "execution_count": 22,
   "id": "cde8bc88-33d7-4c77-8c6f-8c0bfc2ede5d",
   "metadata": {},
   "outputs": [
    {
     "name": "stdout",
     "output_type": "stream",
     "text": [
      "{1, 2, 3, 4, 5}\n"
     ]
    },
    {
     "ename": "NameError",
     "evalue": "name 's' is not defined",
     "output_type": "error",
     "traceback": [
      "\u001b[1;31m---------------------------------------------------------------------------\u001b[0m",
      "\u001b[1;31mNameError\u001b[0m                                 Traceback (most recent call last)",
      "Cell \u001b[1;32mIn[22], line 5\u001b[0m\n\u001b[0;32m      3\u001b[0m \u001b[38;5;28mprint\u001b[39m(s)\n\u001b[0;32m      4\u001b[0m \u001b[38;5;28;01mdel\u001b[39;00m s\n\u001b[1;32m----> 5\u001b[0m \u001b[38;5;28mprint\u001b[39m(\u001b[43ms\u001b[49m)\n",
      "\u001b[1;31mNameError\u001b[0m: name 's' is not defined"
     ]
    }
   ],
   "source": [
    "# del\n",
    "s = {1,2,3,4,5}\n",
    "print(s)\n",
    "del s\n",
    "print(s)\n"
   ]
  },
  {
   "cell_type": "code",
   "execution_count": 24,
   "id": "302d5833-a5b2-4c8d-9df7-b4c64e2f0084",
   "metadata": {},
   "outputs": [
    {
     "ename": "TypeError",
     "evalue": "'set' object doesn't support item deletion",
     "output_type": "error",
     "traceback": [
      "\u001b[1;31m---------------------------------------------------------------------------\u001b[0m",
      "\u001b[1;31mTypeError\u001b[0m                                 Traceback (most recent call last)",
      "Cell \u001b[1;32mIn[24], line 2\u001b[0m\n\u001b[0;32m      1\u001b[0m s \u001b[38;5;241m=\u001b[39m {\u001b[38;5;241m1\u001b[39m,\u001b[38;5;241m2\u001b[39m,\u001b[38;5;241m3\u001b[39m,\u001b[38;5;241m4\u001b[39m,\u001b[38;5;241m5\u001b[39m}\n\u001b[1;32m----> 2\u001b[0m \u001b[38;5;28;01mdel\u001b[39;00m s[\u001b[38;5;241m0\u001b[39m]\n\u001b[0;32m      3\u001b[0m \u001b[38;5;28mprint\u001b[39m(s)\n",
      "\u001b[1;31mTypeError\u001b[0m: 'set' object doesn't support item deletion"
     ]
    }
   ],
   "source": [
    "s = {1,2,3,4,5}\n",
    "del s[0]\n",
    "print(s)"
   ]
  },
  {
   "cell_type": "markdown",
   "id": "7bc61a30-77bd-4bff-913d-c62d5b695005",
   "metadata": {},
   "source": [
    "- indexing i.e delting a particular item wont work"
   ]
  },
  {
   "cell_type": "code",
   "execution_count": 26,
   "id": "a159dcd5-8cb7-4542-b8fd-26708acdf982",
   "metadata": {},
   "outputs": [
    {
     "name": "stdout",
     "output_type": "stream",
     "text": [
      "{1, 2, 3, 4}\n"
     ]
    }
   ],
   "source": [
    "# discard\n",
    "s = {1,2,3,4,5}\n",
    "s.discard(5)\n",
    "print(s)"
   ]
  },
  {
   "cell_type": "code",
   "execution_count": 30,
   "id": "5c0fe0cb-5b81-4f2b-9e33-d707e6417078",
   "metadata": {},
   "outputs": [
    {
     "ename": "KeyError",
     "evalue": "50",
     "output_type": "error",
     "traceback": [
      "\u001b[1;31m---------------------------------------------------------------------------\u001b[0m",
      "\u001b[1;31mKeyError\u001b[0m                                  Traceback (most recent call last)",
      "Cell \u001b[1;32mIn[30], line 3\u001b[0m\n\u001b[0;32m      1\u001b[0m \u001b[38;5;66;03m# remove\u001b[39;00m\n\u001b[0;32m      2\u001b[0m s \u001b[38;5;241m=\u001b[39m {\u001b[38;5;241m1\u001b[39m,\u001b[38;5;241m2\u001b[39m,\u001b[38;5;241m3\u001b[39m,\u001b[38;5;241m4\u001b[39m,\u001b[38;5;241m5\u001b[39m}\n\u001b[1;32m----> 3\u001b[0m \u001b[43ms\u001b[49m\u001b[38;5;241;43m.\u001b[39;49m\u001b[43mremove\u001b[49m\u001b[43m(\u001b[49m\u001b[38;5;241;43m50\u001b[39;49m\u001b[43m)\u001b[49m\n\u001b[0;32m      4\u001b[0m \u001b[38;5;28mprint\u001b[39m(s)\n",
      "\u001b[1;31mKeyError\u001b[0m: 50"
     ]
    }
   ],
   "source": [
    "# remove\n",
    "s = {1,2,3,4,5}\n",
    "s.remove(50)\n",
    "print(s)"
   ]
  },
  {
   "cell_type": "markdown",
   "id": "3df023bc-c79d-4003-b67b-9918de871804",
   "metadata": {},
   "source": [
    "- does the same thing what discard does\n",
    "- but if we try to remove an item which dont exit then it will throw an eerror"
   ]
  },
  {
   "cell_type": "code",
   "execution_count": null,
   "id": "b4c19b3c-2d8b-4723-9c18-cdea9faace2e",
   "metadata": {},
   "outputs": [],
   "source": []
  },
  {
   "cell_type": "code",
   "execution_count": 32,
   "id": "35b27ceb-0d30-41a0-bce4-ab544df0f9df",
   "metadata": {},
   "outputs": [
    {
     "name": "stdout",
     "output_type": "stream",
     "text": [
      "{2, 3, 4, 5}\n"
     ]
    }
   ],
   "source": [
    "# pop : randomnly deletes any item\n",
    "s = {1,2,3,4,5}\n",
    "s.pop()\n",
    "print(s)"
   ]
  },
  {
   "cell_type": "code",
   "execution_count": 33,
   "id": "8cd13ee8-029b-425c-894b-2c2dbd14b9c4",
   "metadata": {},
   "outputs": [
    {
     "name": "stdout",
     "output_type": "stream",
     "text": [
      "set()\n"
     ]
    }
   ],
   "source": [
    "# clear\n",
    "s = {1,2,3,4,5}\n",
    "s.clear()\n",
    "print(s)"
   ]
  },
  {
   "cell_type": "markdown",
   "id": "783fe0fe-8e94-4015-9411-bac8c22f73e9",
   "metadata": {},
   "source": [
    "### Set Operation"
   ]
  },
  {
   "cell_type": "code",
   "execution_count": 44,
   "id": "46fa87a6-0145-4dcd-975b-eb243456ff08",
   "metadata": {},
   "outputs": [],
   "source": [
    "s1 = {1,2,3,4,5}\n",
    "s2 = {4,5,6,7,8}\n"
   ]
  },
  {
   "cell_type": "code",
   "execution_count": 37,
   "id": "a246714b-5e13-4d6c-8f23-d74a7fe3ad10",
   "metadata": {},
   "outputs": [
    {
     "data": {
      "text/plain": [
       "{1, 2, 3, 4, 5, 6, 7, 8}"
      ]
     },
     "execution_count": 37,
     "metadata": {},
     "output_type": "execute_result"
    }
   ],
   "source": [
    "# Union(|)\n",
    "s1 | s2"
   ]
  },
  {
   "cell_type": "code",
   "execution_count": 38,
   "id": "c8a8b28a-eea9-4563-9ff8-95aeb8e86bb9",
   "metadata": {},
   "outputs": [
    {
     "data": {
      "text/plain": [
       "{4, 5}"
      ]
     },
     "execution_count": 38,
     "metadata": {},
     "output_type": "execute_result"
    }
   ],
   "source": [
    "# Intersection(&)\n",
    "s1 & s2"
   ]
  },
  {
   "cell_type": "code",
   "execution_count": 45,
   "id": "dcdf1784-6c83-4a7f-b38e-0260f6bf45f8",
   "metadata": {},
   "outputs": [
    {
     "data": {
      "text/plain": [
       "{1, 2, 3}"
      ]
     },
     "execution_count": 45,
     "metadata": {},
     "output_type": "execute_result"
    }
   ],
   "source": [
    "# Difference(-)\n",
    "s1 - s2 # items in s1 that are not present is s2"
   ]
  },
  {
   "cell_type": "code",
   "execution_count": 46,
   "id": "606e9f3d-73c1-4b08-87b2-9c71da0b6d55",
   "metadata": {},
   "outputs": [
    {
     "data": {
      "text/plain": [
       "{6, 7, 8}"
      ]
     },
     "execution_count": 46,
     "metadata": {},
     "output_type": "execute_result"
    }
   ],
   "source": [
    "s2 - s1 # items in s2 that are not present in s1\n"
   ]
  },
  {
   "cell_type": "code",
   "execution_count": 41,
   "id": "bf00b7fb-7a08-45cf-94d9-2be6a8c35009",
   "metadata": {},
   "outputs": [
    {
     "data": {
      "text/plain": [
       "{1, 2, 3, 6, 7, 8}"
      ]
     },
     "execution_count": 41,
     "metadata": {},
     "output_type": "execute_result"
    }
   ],
   "source": [
    "# Symmetric Difference(^) # except common everything will be printed\n",
    "s1 ^ s2\n"
   ]
  },
  {
   "cell_type": "code",
   "execution_count": 42,
   "id": "4ae8a488-e65e-4bb9-980c-77ba7dca5e8e",
   "metadata": {},
   "outputs": [
    {
     "data": {
      "text/plain": [
       "False"
      ]
     },
     "execution_count": 42,
     "metadata": {},
     "output_type": "execute_result"
    }
   ],
   "source": [
    "# Membership Test\n",
    "1 not in s1\n"
   ]
  },
  {
   "cell_type": "code",
   "execution_count": 43,
   "id": "91f4473d-5433-4b6f-b8ba-84a6592ad99b",
   "metadata": {},
   "outputs": [
    {
     "name": "stdout",
     "output_type": "stream",
     "text": [
      "1\n",
      "2\n",
      "3\n",
      "4\n",
      "5\n"
     ]
    }
   ],
   "source": [
    "# Iteration\n",
    "for i in s1:\n",
    "  print(i)"
   ]
  },
  {
   "cell_type": "markdown",
   "id": "0407f86d-68c2-4fa3-939d-a15563791ed2",
   "metadata": {},
   "source": [
    "- loops work here as well "
   ]
  },
  {
   "cell_type": "markdown",
   "id": "71778036-832f-4c09-addd-13597ce057ca",
   "metadata": {},
   "source": [
    "### Set Functions"
   ]
  },
  {
   "cell_type": "code",
   "execution_count": 60,
   "id": "7d0a81c3-d2bf-4ad1-8550-3566b9b13a69",
   "metadata": {},
   "outputs": [
    {
     "data": {
      "text/plain": [
       "6"
      ]
     },
     "execution_count": 60,
     "metadata": {},
     "output_type": "execute_result"
    }
   ],
   "source": [
    "# len/sum/min/max/sorted\n",
    "s = {3,1,4,5,2,7}\n",
    "len(s)"
   ]
  },
  {
   "cell_type": "code",
   "execution_count": 61,
   "id": "381deb82-7cb7-46d5-81d6-8dc9d67cbd1c",
   "metadata": {},
   "outputs": [
    {
     "data": {
      "text/plain": [
       "22"
      ]
     },
     "execution_count": 61,
     "metadata": {},
     "output_type": "execute_result"
    }
   ],
   "source": [
    "sum(s)"
   ]
  },
  {
   "cell_type": "code",
   "execution_count": 62,
   "id": "dac21cd0-12a1-4434-b8fb-fcc8bd84bf0f",
   "metadata": {},
   "outputs": [
    {
     "data": {
      "text/plain": [
       "1"
      ]
     },
     "execution_count": 62,
     "metadata": {},
     "output_type": "execute_result"
    }
   ],
   "source": [
    "min(s)"
   ]
  },
  {
   "cell_type": "code",
   "execution_count": 63,
   "id": "aa8fadc0-1e9d-41db-83a3-448673f6c847",
   "metadata": {},
   "outputs": [
    {
     "data": {
      "text/plain": [
       "7"
      ]
     },
     "execution_count": 63,
     "metadata": {},
     "output_type": "execute_result"
    }
   ],
   "source": [
    "max(s)"
   ]
  },
  {
   "cell_type": "code",
   "execution_count": 64,
   "id": "ca62b580-6fea-4561-b76c-d524a48fa55f",
   "metadata": {},
   "outputs": [
    {
     "data": {
      "text/plain": [
       "[7, 5, 4, 3, 2, 1]"
      ]
     },
     "execution_count": 64,
     "metadata": {},
     "output_type": "execute_result"
    }
   ],
   "source": [
    "sorted(s,reverse=True)"
   ]
  },
  {
   "cell_type": "code",
   "execution_count": 66,
   "id": "12bd4da7-eee7-470c-b4f3-0c2b62b46f8e",
   "metadata": {},
   "outputs": [
    {
     "data": {
      "text/plain": [
       "{1, 2, 3, 4, 5, 6, 7, 8}"
      ]
     },
     "execution_count": 66,
     "metadata": {},
     "output_type": "execute_result"
    }
   ],
   "source": [
    "# union/update\n",
    "s1 = {1,2,3,4,5}\n",
    "s2 = {4,5,6,7,8}\n",
    "\n",
    "# s1 | s2 this and below expression both are same \n",
    "s1.union(s2)"
   ]
  },
  {
   "cell_type": "code",
   "execution_count": 67,
   "id": "6af2c5b3-2fde-4a7a-a339-df167d50442f",
   "metadata": {},
   "outputs": [
    {
     "name": "stdout",
     "output_type": "stream",
     "text": [
      "{1, 2, 3, 4, 5, 6, 7, 8}\n",
      "{4, 5, 6, 7, 8}\n"
     ]
    }
   ],
   "source": [
    "s1.update(s2)\n",
    "print(s1)\n",
    "print(s2)"
   ]
  },
  {
   "cell_type": "code",
   "execution_count": 49,
   "id": "2744bffa-e4f4-40e2-8c48-258cbcc9714d",
   "metadata": {},
   "outputs": [
    {
     "name": "stdout",
     "output_type": "stream",
     "text": [
      "{4, 5}\n",
      "{4, 5, 6, 7, 8}\n"
     ]
    }
   ],
   "source": [
    "# intersection/intersection_update\n",
    "s1 = {1,2,3,4,5}\n",
    "s2 = {4,5,6,7,8}\n",
    "\n",
    "s1.intersection(s2)\n",
    "\n",
    "s1.intersection_update(s2)\n",
    "print(s1)\n",
    "print(s2)"
   ]
  },
  {
   "cell_type": "code",
   "execution_count": 68,
   "id": "3366a9ef-35d2-49f9-a1ce-86d1a8444c8c",
   "metadata": {},
   "outputs": [
    {
     "data": {
      "text/plain": [
       "{1, 2, 3}"
      ]
     },
     "execution_count": 68,
     "metadata": {},
     "output_type": "execute_result"
    }
   ],
   "source": [
    "# difference/difference_update\n",
    "s1 = {1,2,3,4,5}\n",
    "s2 = {4,5,6,7,8}\n",
    "\n",
    "s1.difference(s2)"
   ]
  },
  {
   "cell_type": "code",
   "execution_count": 50,
   "id": "366a3271-3faa-44bf-add7-781217011b70",
   "metadata": {},
   "outputs": [
    {
     "name": "stdout",
     "output_type": "stream",
     "text": [
      "{1, 2, 3}\n",
      "{4, 5, 6, 7, 8}\n"
     ]
    }
   ],
   "source": [
    "# difference/difference_update\n",
    "s1 = {1,2,3,4,5}\n",
    "s2 = {4,5,6,7,8}\n",
    "\n",
    "s1.difference(s2)\n",
    "\n",
    "s1.difference_update(s2)\n",
    "print(s1)\n",
    "print(s2)"
   ]
  },
  {
   "cell_type": "code",
   "execution_count": 51,
   "id": "2fb1164c-df03-4bd9-9c4a-1e6aa8aaa795",
   "metadata": {},
   "outputs": [
    {
     "name": "stdout",
     "output_type": "stream",
     "text": [
      "{1, 2, 3, 6, 7, 8}\n",
      "{4, 5, 6, 7, 8}\n"
     ]
    }
   ],
   "source": [
    "# symmetric_difference/symmetric_difference_update\n",
    "s1 = {1,2,3,4,5}\n",
    "s2 = {4,5,6,7,8}\n",
    "\n",
    "s1.symmetric_difference(s2)\n",
    "\n",
    "s1.symmetric_difference_update(s2)\n",
    "print(s1)\n",
    "print(s2)"
   ]
  },
  {
   "cell_type": "code",
   "execution_count": 69,
   "id": "cf88010f-4b7a-4a1f-af3f-3f2ab90cb710",
   "metadata": {},
   "outputs": [
    {
     "data": {
      "text/plain": [
       "True"
      ]
     },
     "execution_count": 69,
     "metadata": {},
     "output_type": "execute_result"
    }
   ],
   "source": [
    "# isdisjoint/issubset/issuperset\n",
    "s1 = {1,2,3,4}\n",
    "s2 = {7,8,5,6}\n",
    "\n",
    "s1.isdisjoint(s2) # sets which have nothing in common are disjoint set"
   ]
  },
  {
   "cell_type": "code",
   "execution_count": 70,
   "id": "b26ef333-94a8-4a6a-856c-abc19513817d",
   "metadata": {},
   "outputs": [
    {
     "data": {
      "text/plain": [
       "False"
      ]
     },
     "execution_count": 70,
     "metadata": {},
     "output_type": "execute_result"
    }
   ],
   "source": [
    "# isdisjoint/issubset/issuperset\n",
    "s1 = {1,2,3,4}\n",
    "s2 = {1,2,5,6}\n",
    "\n",
    "s1.isdisjoint(s2) # sets which have nothing in common are disjoint set"
   ]
  },
  {
   "cell_type": "code",
   "execution_count": 73,
   "id": "7d1ad6c5-e80a-4a1b-aee8-ea7aada76d20",
   "metadata": {},
   "outputs": [
    {
     "data": {
      "text/plain": [
       "True"
      ]
     },
     "execution_count": 73,
     "metadata": {},
     "output_type": "execute_result"
    }
   ],
   "source": [
    "s1 = {1,2,3,4,5}\n",
    "s2 = {3,4,5}\n",
    "\n",
    "s2.issubset(s1)"
   ]
  },
  {
   "cell_type": "code",
   "execution_count": 74,
   "id": "9ffe4077-fa28-4f96-b306-50e86c73ecd6",
   "metadata": {},
   "outputs": [
    {
     "data": {
      "text/plain": [
       "True"
      ]
     },
     "execution_count": 74,
     "metadata": {},
     "output_type": "execute_result"
    }
   ],
   "source": [
    "s1 = {1,2,3,4,5}\n",
    "s2 = {3,4,5}\n",
    "\n",
    "s1.issuperset(s2)"
   ]
  },
  {
   "cell_type": "code",
   "execution_count": 54,
   "id": "9941a655-3145-437e-a079-0cc6d55cc67a",
   "metadata": {},
   "outputs": [
    {
     "name": "stdout",
     "output_type": "stream",
     "text": [
      "{1, 2, 3}\n",
      "{1, 2, 3}\n"
     ]
    }
   ],
   "source": [
    "# copy\n",
    "s1 = {1,2,3}\n",
    "s2 = s1.copy() # creates a shallow copy\n",
    "\n",
    "print(s1)\n",
    "print(s2)"
   ]
  },
  {
   "cell_type": "markdown",
   "id": "caf891ab-a7ae-4c93-b491-b35fd7a93096",
   "metadata": {},
   "source": [
    "- both will be stored in different memory location/address"
   ]
  },
  {
   "cell_type": "markdown",
   "id": "99443f90-2d86-4bdc-b003-a24ab7faa939",
   "metadata": {},
   "source": [
    "### Frozenset\n",
    "Frozen set is just an immutable version of a Python set object"
   ]
  },
  {
   "cell_type": "code",
   "execution_count": 55,
   "id": "65b48c2b-5788-4dfc-98e6-a1374844e8d5",
   "metadata": {},
   "outputs": [
    {
     "data": {
      "text/plain": [
       "frozenset({1, 2, 3, 4, 5})"
      ]
     },
     "execution_count": 55,
     "metadata": {},
     "output_type": "execute_result"
    }
   ],
   "source": [
    "# create frozenset\n",
    "fs1 = frozenset([1,2,3]) # inside we can pass anything be it list, tple, set\n",
    "fs2 = frozenset([3,4,5])\n",
    "\n",
    "fs1 | fs2"
   ]
  },
  {
   "cell_type": "markdown",
   "id": "8708fe4c-4734-4a0c-9994-8b8f8dcfaf8a",
   "metadata": {},
   "source": [
    "##### what works and what does not\n",
    "- all union, intersection, etc operations works\n",
    "##### works -> all read functions works\n",
    "- add delete functions like pop, update,remove, add, del etc wont work\n",
    "##### does't work -> write operations\n",
    "##### when to use?\n",
    "- when you are building application where you will do only read only operations will use frozen set\n",
    "- and when we want write only application will use set"
   ]
  },
  {
   "cell_type": "markdown",
   "id": "db76955e-553a-4735-bf39-81aee67ccef7",
   "metadata": {},
   "source": [
    "#### can we create 2d frozen set\n",
    "- yes since frozen set are immutable\n",
    "- and we can add immutable items in  set"
   ]
  },
  {
   "cell_type": "code",
   "execution_count": 57,
   "id": "848c57cb-53ca-4aa9-9c74-a5f47f84c2c9",
   "metadata": {},
   "outputs": [
    {
     "data": {
      "text/plain": [
       "frozenset({1, 2, frozenset({3, 4})})"
      ]
     },
     "execution_count": 57,
     "metadata": {},
     "output_type": "execute_result"
    }
   ],
   "source": [
    "# When to use\n",
    "# 2D sets\n",
    "fs = frozenset([1,2,frozenset([3,4])])\n",
    "fs"
   ]
  },
  {
   "cell_type": "markdown",
   "id": "30997c47-2d8d-475f-aec4-f15545c7bed0",
   "metadata": {},
   "source": [
    "### Set Comprehension"
   ]
  },
  {
   "cell_type": "code",
   "execution_count": 76,
   "id": "375213e2-9abd-41e5-b0b3-ec786bfbe575",
   "metadata": {},
   "outputs": [
    {
     "data": {
      "text/plain": [
       "{1, 2, 3, 4, 5, 6, 7, 8, 9, 10}"
      ]
     },
     "execution_count": 76,
     "metadata": {},
     "output_type": "execute_result"
    }
   ],
   "source": [
    "# examples\n",
    "\n",
    "{i for i in range(1,11)}"
   ]
  },
  {
   "cell_type": "code",
   "execution_count": 59,
   "id": "4bd9a3ea-25e4-4510-9275-c90a2eb32285",
   "metadata": {},
   "outputs": [
    {
     "data": {
      "text/plain": [
       "{36, 49, 64, 81, 100}"
      ]
     },
     "execution_count": 59,
     "metadata": {},
     "output_type": "execute_result"
    }
   ],
   "source": [
    "{i**2 for i in range(1,11) if i>5}"
   ]
  },
  {
   "cell_type": "markdown",
   "id": "ec9bb72c-7914-422c-ad33-4580755087fa",
   "metadata": {},
   "source": []
  },
  {
   "cell_type": "code",
   "execution_count": null,
   "id": "c112cc72-fc09-4c59-9e10-a7b908dd0287",
   "metadata": {},
   "outputs": [],
   "source": []
  }
 ],
 "metadata": {
  "kernelspec": {
   "display_name": "Python 3 (ipykernel)",
   "language": "python",
   "name": "python3"
  },
  "language_info": {
   "codemirror_mode": {
    "name": "ipython",
    "version": 3
   },
   "file_extension": ".py",
   "mimetype": "text/x-python",
   "name": "python",
   "nbconvert_exporter": "python",
   "pygments_lexer": "ipython3",
   "version": "3.10.9"
  }
 },
 "nbformat": 4,
 "nbformat_minor": 5
}
