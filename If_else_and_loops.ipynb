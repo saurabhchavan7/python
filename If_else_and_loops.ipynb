{
 "cells": [
  {
   "cell_type": "markdown",
   "id": "5e12e66a-ecc3-41d0-9c4d-17df8541e0b5",
   "metadata": {},
   "source": [
    "### If-Else in Python\n",
    "\n",
    "- A Python program executes from top to bottom.\n",
    "- Sometimes, a program has options where it can go to option 1 or option 2; this situation is called branching. The `if-else` statement handles this branching.\n",
    "- **Example:** Creating a login website.\n",
    "  - In the login page, when a user inputs their email and password, we have two options:\n",
    "    - If the user inputs the correct credentials, they are shown the webpage.\n",
    "    - If the credentials are incorrect, an error is displayed.\n",
    "- We will write a small login program that considers only one email and password as correct.\n",
    "  - **Correct Email:** `chavan.sau@northeastern.edu`\n",
    "  - **Correct Password:** `1234`\n",
    "  - If the credentials are correct, the program will display \"Login successful\"; otherwise, it will display \"Incorrect credentials\".\n",
    "\n",
    "### Indentation in Python\n",
    "\n",
    "- **Why is there an indentation concept in Python?**\n",
    "  - Python ensures that the code is well-written and readable.\n",
    "  - This readability is enforced through indentation rather than using brackets as in other programming languages.\n",
    "  - Python understands which block of code belongs to which statement through the level of indentation.\n"
   ]
  },
  {
   "cell_type": "code",
   "execution_count": 1,
   "id": "3d652e2b-a1ea-423e-accc-cb0a197e38fc",
   "metadata": {},
   "outputs": [
    {
     "name": "stdin",
     "output_type": "stream",
     "text": [
      "enter email: chavan.sau@northeastern.edu\n",
      "enter password 1234\n"
     ]
    },
    {
     "name": "stdout",
     "output_type": "stream",
     "text": [
      "correct\n"
     ]
    }
   ],
   "source": [
    "email = input('enter email:')\n",
    "password = input('enter password')\n",
    "\n",
    "if email == 'chavan.sau@northeastern.edu' and password == '1234' :\n",
    "    print('correct')\n",
    "else :\n",
    "    print('incorrect')"
   ]
  },
  {
   "cell_type": "markdown",
   "id": "ee48adbc-7f10-40e9-8a9e-340372914dc6",
   "metadata": {},
   "source": [
    "- In the above code, we will now add a third possibility.\n",
    "  - If the email is correct but the password is wrong, we will give the user one more chance to enter the correct password.\n",
    "  - Here comes the concept of `elif`.\n",
    "  - Suppose we have four possibilities: the first will be handled with `if`, the last with `else`, and the remaining with `elif`.\n",
    "  \n",
    "- We will also explore **nested if-else** statements.\n",
    "  - Nested `if-else` allows for more complex decision-making by placing an `if-else` structure inside another `if-else` block.\n",
    "\n",
    "### Example: Enhanced Login Program\n",
    "\n",
    "- **Correct Email:** `chavan.sau@northeastern.edu`\n",
    "- **Correct Password:** `1234`\n",
    "  \n",
    "1. **First Possibility:** If both email and password are correct, display \"Login successful\".\n",
    "2. **Second Possibility:** If the email is correct but the password is wrong, give the user one more chance to enter the correct password.\n",
    "3. **Third Possibility:** If the email is incorrect, display \"Email not found\".\n",
    "4. **Fourth Possibility:** If the credentials are incorrect after the second chance, display \"Incorrect credentials. Access denied.\"\n",
    "\n",
    "In this program, we will use `if`, `elif`, `else`, and also demonstrate the use of nested `if-else` statements.\n"
   ]
  },
  {
   "cell_type": "code",
   "execution_count": 3,
   "id": "d1c05a4c-4086-43b2-b269-49382012b0a6",
   "metadata": {},
   "outputs": [
    {
     "name": "stdin",
     "output_type": "stream",
     "text": [
      "enter email: chavan.sau@northeastern.edu\n",
      "enter password 12345\n"
     ]
    },
    {
     "name": "stdout",
     "output_type": "stream",
     "text": [
      "incorrect password\n"
     ]
    },
    {
     "name": "stdin",
     "output_type": "stream",
     "text": [
      "enter correct password 1234\n"
     ]
    },
    {
     "name": "stdout",
     "output_type": "stream",
     "text": [
      "correct credentials\n"
     ]
    }
   ],
   "source": [
    "email = input('enter email:')\n",
    "password = input('enter password')\n",
    "\n",
    "if email == 'chavan.sau@northeastern.edu' and password == '1234':\n",
    "    print('correct')\n",
    "elif email == 'chavan.sau@northeastern.edu' and password != '1234': \n",
    "    print ('incorrect password')\n",
    "    password = input('enter correct password') \n",
    "    if password == '1234':\n",
    "        print('correct credentials')\n",
    "    else:\n",
    "        print('locked')\n",
    "else :\n",
    "    print('incorrect')"
   ]
  },
  {
   "cell_type": "markdown",
   "id": "cf2f0078-9f5b-4513-9cf6-8acfe0c66a91",
   "metadata": {},
   "source": [
    "#### task2 - find the min of 3 given numbers"
   ]
  },
  {
   "cell_type": "code",
   "execution_count": 14,
   "id": "599d3ede-2b49-41ad-b425-d00666912df2",
   "metadata": {},
   "outputs": [
    {
     "name": "stdin",
     "output_type": "stream",
     "text": [
      "enter number 1: 17\n",
      "enter number 2: 17\n",
      "enter number 3: 17\n"
     ]
    },
    {
     "name": "stdout",
     "output_type": "stream",
     "text": [
      "values are same \n",
      " put different values to check the minimum\n"
     ]
    },
    {
     "name": "stdin",
     "output_type": "stream",
     "text": [
      "enter number 1: 19\n",
      "enter number 2: 18\n",
      "enter number 3: 17\n"
     ]
    },
    {
     "name": "stdout",
     "output_type": "stream",
     "text": [
      "min is: 17\n"
     ]
    }
   ],
   "source": [
    "fnum = int(input('enter number 1:'))\n",
    "snum = int(input('enter number 2:'))\n",
    "tnum = int(input('enter number 3:'))\n",
    "\n",
    "if fnum < snum and tnum:\n",
    "    print('min is:',fnum)\n",
    "elif snum < tnum:\n",
    "    print('min is:',snum)\n",
    "elif fnum == snum == tnum:\n",
    "    print('values are same \\n put different values to check the minimum')\n",
    "    fnum = int(input('enter number 1:'))\n",
    "    snum = int(input('enter number 2:'))\n",
    "    tnum = int(input('enter number 3:'))\n",
    "    if fnum < snum and tnum:\n",
    "        print('min is:',fnum)\n",
    "    elif snum < tnum:\n",
    "        print('min is:',snum)\n",
    "    else:\n",
    "        print('min is:',tnum)\n",
    "else:\n",
    "    print('min is:',tnum)"
   ]
  },
  {
   "cell_type": "markdown",
   "id": "57ce6916-8ef0-4d12-948a-3616479fa865",
   "metadata": {},
   "source": [
    "#### task: menu driven calculator"
   ]
  },
  {
   "cell_type": "code",
   "execution_count": 17,
   "id": "e7939606-9ccc-4c59-b3d7-d028b49b754a",
   "metadata": {},
   "outputs": [
    {
     "name": "stdin",
     "output_type": "stream",
     "text": [
      "enter 1st no: 7\n",
      "enter 2nd no: 7\n",
      "enter the operation *\n"
     ]
    },
    {
     "name": "stdout",
     "output_type": "stream",
     "text": [
      "49\n"
     ]
    }
   ],
   "source": [
    "fnum = int(input('enter 1st no:'))\n",
    "snum = int(input('enter 2nd no:'))\n",
    "\n",
    "output = input('enter the operation')\n",
    "\n",
    "if output == '+':\n",
    "    print(fnum + snum)\n",
    "elif output == '-':\n",
    "    print(fnum - snum)\n",
    "elif output == '*':\n",
    "    print(fnum * snum)\n",
    "else:\n",
    "    print(fnum / snum)"
   ]
  },
  {
   "cell_type": "markdown",
   "id": "aaddb5d8-4e5e-4890-8157-d4e4698642c3",
   "metadata": {},
   "source": [
    "### Modules in Python\n",
    "\n",
    "- In C/C++/Java, there is the concept of libraries (e.g., `stdio.h` in C).\n",
    "- In Python, these are called **modules**.\n",
    "  - A module is a Python file containing functions and definitions.\n",
    "  - By importing a module, you can use pre-written functions in your code, saving time and effort.\n",
    "- In machine learning, we often use modules like `scikit-learn`, `Keras`, and `TensorFlow`.\n",
    "- We'll explore how to import and use such modules.\n",
    "\n",
    "**Example Modules:**\n",
    "- `math`\n",
    "- `keywords`\n",
    "- `random`\n",
    "- `datetime`\n"
   ]
  },
  {
   "cell_type": "markdown",
   "id": "ad1b624e-258c-48f0-aad7-875ca457ba10",
   "metadata": {},
   "source": [
    "#### Math Module\n",
    "\n",
    "- The `math` module provides all the functions needed to perform mathematical operations in Python.\n",
    "- It includes functions for basic arithmetic, trigonometry, logarithms, and more, enabling the creation of mathematical software.\n"
   ]
  },
  {
   "cell_type": "code",
   "execution_count": 18,
   "id": "0405dfd5-384b-48f9-bae7-b7bceda2ff49",
   "metadata": {},
   "outputs": [],
   "source": [
    "import math"
   ]
  },
  {
   "cell_type": "markdown",
   "id": "1f16141f-fcab-4275-842b-9e3dd7bfc9f9",
   "metadata": {},
   "source": [
    "- If there is no output after the import statement, it means the import was successful.\n",
    "- After importing the `math` module, you can type `math.` followed by a dot (`.`) to see all the functions available in this module.\n"
   ]
  },
  {
   "cell_type": "code",
   "execution_count": 19,
   "id": "d5341e28-9c04-48c9-ae0d-cfdc3be74da2",
   "metadata": {},
   "outputs": [
    {
     "data": {
      "text/plain": [
       "7.38905609893065"
      ]
     },
     "execution_count": 19,
     "metadata": {},
     "output_type": "execute_result"
    }
   ],
   "source": [
    "math.exp(2)"
   ]
  },
  {
   "cell_type": "markdown",
   "id": "dcc600cb-a606-467a-a1d0-38535554911a",
   "metadata": {},
   "source": [
    "#### Keyword Module\n",
    "\n",
    "- The `keyword` module provides a list of reserved words in Python that cannot be used as identifiers (e.g., variable names).\n",
    "- To view the reserved words in Python, you can use this module.\n"
   ]
  },
  {
   "cell_type": "code",
   "execution_count": 20,
   "id": "b5be4ada-fbb1-426d-9b14-5050ac65aaff",
   "metadata": {},
   "outputs": [],
   "source": [
    "import keyword"
   ]
  },
  {
   "cell_type": "code",
   "execution_count": 23,
   "id": "4afd9148-4e7e-4e2e-8300-c0dda433ca51",
   "metadata": {},
   "outputs": [
    {
     "name": "stdout",
     "output_type": "stream",
     "text": [
      "['False', 'None', 'True', 'and', 'as', 'assert', 'async', 'await', 'break', 'class', 'continue', 'def', 'del', 'elif', 'else', 'except', 'finally', 'for', 'from', 'global', 'if', 'import', 'in', 'is', 'lambda', 'nonlocal', 'not', 'or', 'pass', 'raise', 'return', 'try', 'while', 'with', 'yield']\n"
     ]
    }
   ],
   "source": [
    "print(keyword.kwlist)"
   ]
  },
  {
   "cell_type": "markdown",
   "id": "b5f0fc75-fdf6-4cee-bd3f-efd5d4719da1",
   "metadata": {},
   "source": [
    "#### Random Module\n",
    "\n",
    "- The `random` module helps in generating random numbers.\n",
    "- It provides functions to generate random integers, floating-point numbers, and to perform random sampling.\n"
   ]
  },
  {
   "cell_type": "code",
   "execution_count": 30,
   "id": "02799d08-7cfe-47b2-8fc9-5032636048b1",
   "metadata": {},
   "outputs": [
    {
     "name": "stdout",
     "output_type": "stream",
     "text": [
      "71\n"
     ]
    }
   ],
   "source": [
    "import random\n",
    "print(random.randint(1,100))"
   ]
  },
  {
   "cell_type": "markdown",
   "id": "aca00792-e5a1-47b8-80ea-07d8e1b389b5",
   "metadata": {},
   "source": [
    "### datetime module"
   ]
  },
  {
   "cell_type": "code",
   "execution_count": 31,
   "id": "2576798a-46fb-40de-b2d4-9199a6b52018",
   "metadata": {},
   "outputs": [],
   "source": [
    "import  datetime"
   ]
  },
  {
   "cell_type": "code",
   "execution_count": 33,
   "id": "5a82ab74-82a1-4f1f-b4a5-47fb98a3bddc",
   "metadata": {},
   "outputs": [
    {
     "name": "stdout",
     "output_type": "stream",
     "text": [
      "2024-08-09 15:10:45.645278\n"
     ]
    }
   ],
   "source": [
    "print(datetime.datetime.now())"
   ]
  },
  {
   "cell_type": "markdown",
   "id": "c6b8b98f-d3f9-461d-b94a-6f5810ff2f64",
   "metadata": {},
   "source": [
    "#### To Know Various Modules in Python\n",
    "\n",
    "- To see a list of all modules available in your Python installation, use the following code:\n",
    "  ```python\n",
    "  help('modules')\n"
   ]
  },
  {
   "cell_type": "code",
   "execution_count": 46,
   "id": "cadd1c1e-c79f-4d51-8122-895839cd0477",
   "metadata": {},
   "outputs": [],
   "source": [
    "# help('modules')\n",
    "\n",
    "# pip list\n"
   ]
  },
  {
   "cell_type": "markdown",
   "id": "630635b7-4915-4447-9e94-6ca7fe10dbde",
   "metadata": {},
   "source": [
    "### Loops in Python\n",
    "\n",
    "- Loops allow you to repeat a block of code multiple times.\n",
    "- Python supports two types of loops:\n",
    "  - **`while` loop**: Repeats as long as a given condition is `True`.\n",
    "  - **`for` loop**: Iterates over a sequence (like a list, tuple, or string) or a range of numbers.\n"
   ]
  },
  {
   "cell_type": "markdown",
   "id": "d218ecd4-d9b9-4847-b460-d2413e90b495",
   "metadata": {},
   "source": [
    "#### while loop\n",
    "task: program a table"
   ]
  },
  {
   "cell_type": "code",
   "execution_count": 48,
   "id": "7de4727e-7a36-4abd-812d-bca2d67a95b2",
   "metadata": {},
   "outputs": [
    {
     "name": "stdin",
     "output_type": "stream",
     "text": [
      "enter a number to get the table 7\n"
     ]
    },
    {
     "name": "stdout",
     "output_type": "stream",
     "text": [
      "7 * 1 = 7\n",
      "7 * 2 = 14\n",
      "7 * 3 = 21\n",
      "7 * 4 = 28\n",
      "7 * 5 = 35\n",
      "7 * 6 = 42\n",
      "7 * 7 = 49\n",
      "7 * 8 = 56\n",
      "7 * 9 = 63\n",
      "7 * 10 = 70\n"
     ]
    }
   ],
   "source": [
    "number = int(input('enter a number to get the table'))\n",
    "i = 1 \n",
    "while i < 11:\n",
    "    print (number, '*', i,'=',number*i)\n",
    "    i += 1"
   ]
  },
  {
   "cell_type": "markdown",
   "id": "a9142696-27e5-4d31-be44-8b0a4246d640",
   "metadata": {},
   "source": [
    "#### While Loop with `else`\n",
    "\n",
    "- In Python, you can use `else` with loops.\n",
    "- Generally, in other languages, `else` is used with `if` statements or `if-else` constructs.\n",
    "- However, in Python, `else` can be used with both `while` and `for` loops.\n",
    "- The `else` block executes when the loop completes normally (i.e., when the loop condition becomes `False`).\n"
   ]
  },
  {
   "cell_type": "code",
   "execution_count": 50,
   "id": "56cfe099-98ca-4fb6-a34b-a3d4fdc998d5",
   "metadata": {},
   "outputs": [
    {
     "name": "stdout",
     "output_type": "stream",
     "text": [
      "49\n",
      "70\n",
      "91\n",
      "out of range\n"
     ]
    }
   ],
   "source": [
    "x = 7\n",
    "\n",
    "while x<14 :\n",
    "    print(x*7)\n",
    "    x += 3\n",
    "\n",
    "else:\n",
    "    print('out of range')"
   ]
  },
  {
   "cell_type": "markdown",
   "id": "6ac23ffa-6019-4be8-bdbb-dbcac73f9fc6",
   "metadata": {},
   "source": [
    "#### task : program a guessing game"
   ]
  },
  {
   "cell_type": "code",
   "execution_count": 60,
   "id": "ff4336a6-6eb8-4227-b1c2-204d2fd03c12",
   "metadata": {},
   "outputs": [
    {
     "name": "stdin",
     "output_type": "stream",
     "text": [
      "guess the jackpot number 5\n"
     ]
    },
    {
     "name": "stdout",
     "output_type": "stream",
     "text": [
      "wrong! guess lower\n"
     ]
    },
    {
     "name": "stdin",
     "output_type": "stream",
     "text": [
      "guess the jackpot number 1\n"
     ]
    },
    {
     "name": "stdout",
     "output_type": "stream",
     "text": [
      "wrong! guess higher\n"
     ]
    },
    {
     "name": "stdin",
     "output_type": "stream",
     "text": [
      "guess the jackpot number 2\n"
     ]
    },
    {
     "name": "stdout",
     "output_type": "stream",
     "text": [
      "won\n",
      "attempts 3\n"
     ]
    }
   ],
   "source": [
    "import random\n",
    "jackpot = 2 #random.randint(1,100)\n",
    "\n",
    "guess = int(input('guess the jackpot number'))\n",
    "\n",
    "counter = 1\n",
    "while jackpot != guess and counter<7: # this loop will contiue until you guess it correctly\n",
    "    if guess < jackpot:\n",
    "        print('wrong! guess higher')\n",
    "    else :\n",
    "        print('wrong! guess lower')\n",
    "    guess = int(input('guess the jackpot number'))\n",
    "    counter += 1\n",
    "\n",
    "if guess == jackpot:\n",
    "    print('won')\n",
    "    print('attempts',counter)\n",
    "else:\n",
    "    print('lost')\n",
    "    print('attempts',counter)"
   ]
  },
  {
   "cell_type": "markdown",
   "id": "dd9dcd08-2acb-427c-bbc8-d05adf844446",
   "metadata": {},
   "source": [
    "#### For Loops\n",
    "\n",
    "- Python's `for` loop is different from loops in other languages; it's designed to be easy and powerful.\n",
    "- Python's `for` loop is used to iterate over a sequence (like a list, tuple, or string) or a range of numbers.\n",
    "- Python’s `for` loop often uses the `range()` function to generate a sequence of numbers.\n",
    "\n",
    "##### The `range()` Function\n",
    "- The `range()` function generates a sequence of numbers.\n",
    "- If you provide two numbers to `range()`, it will generate numbers between these two values.\n",
    "- Syntax: `range(start, stop, step)`\n",
    "  - `start`: The starting value of the sequence (inclusive).\n",
    "  - `stop`: The end value of the sequence (exclusive).\n",
    "  - `step`: The increment between each number in the sequence (optional)."
   ]
  },
  {
   "cell_type": "code",
   "execution_count": 64,
   "id": "0ebc2bde-479f-4d07-9c85-e7e07a91d3e9",
   "metadata": {},
   "outputs": [
    {
     "name": "stdout",
     "output_type": "stream",
     "text": [
      "10\n",
      "8\n",
      "6\n",
      "4\n",
      "2\n"
     ]
    }
   ],
   "source": [
    "# using for loop print 1 to 10\n",
    "\n",
    "for i in range(10,0,-2):\n",
    "    print(i)"
   ]
  },
  {
   "cell_type": "markdown",
   "id": "20b24081-2ee3-4f50-895c-931aa4d27128",
   "metadata": {},
   "source": [
    "#### For Loops\n",
    "\n",
    "- In the example, we are calling the `range()` function with the inputs 1 and 11.\n",
    "- This generates a sequence of numbers from 1 to 10.\n",
    "- We then loop over this range, one by one, and print each number.\n",
    "\n",
    "##### Why Python's `for` Loop is Different\n",
    "- In Python, you don’t have to specify:\n",
    "  - A starting condition\n",
    "  - A termination condition\n",
    "  - An increment condition\n",
    "\n",
    "  In other languages, you might need to specify these conditions explicitly. For example:\n",
    "  - `i = 0`\n",
    "  - `i < 10`\n",
    "  - `i++`\n",
    "\n",
    "  This requires you to define:\n",
    "  - The initial value of `i`\n",
    "  - The termination condition for `i`\n",
    "  - The increment step for `i`\n",
    "\n",
    "- In Python, you simply provide a sequence of numbers, and the loop iterates through them.\n",
    "\n",
    "- Python’s `for` loop can iterate over not only numbers but also other data types such as lists, tuples, and strings.\n"
   ]
  },
  {
   "cell_type": "code",
   "execution_count": 66,
   "id": "bef9b1fb-8a4a-4c9a-8fce-c322a52874cd",
   "metadata": {},
   "outputs": [
    {
     "name": "stdout",
     "output_type": "stream",
     "text": [
      "p\n",
      "y\n",
      "t\n",
      "h\n",
      "o\n",
      "n\n"
     ]
    }
   ],
   "source": [
    "for i in 'python':\n",
    "    print(i)"
   ]
  },
  {
   "cell_type": "markdown",
   "id": "4d6817df-330e-4117-ada2-29a2b1571bac",
   "metadata": {},
   "source": [
    "- we can even iterate over a list/tuple/set/dictionary\n"
   ]
  },
  {
   "cell_type": "code",
   "execution_count": 68,
   "id": "b7d787c5-5437-49a8-8c05-3014444f8f5d",
   "metadata": {},
   "outputs": [
    {
     "name": "stdout",
     "output_type": "stream",
     "text": [
      "7\n",
      "17\n",
      "200\n",
      "0\n"
     ]
    }
   ],
   "source": [
    "for i in [7,17,200,0]:\n",
    "    print(i)"
   ]
  },
  {
   "cell_type": "markdown",
   "id": "50a9fe1a-1d57-414a-8b94-6155606510a6",
   "metadata": {},
   "source": [
    "#### For Loop Task\n",
    "\n",
    "**Task**: The current population of a town is 10,000. The population is increasing at a rate of 10% per year. Write a program to find out the population at the end of each of the last 10 years.\n",
    "\n",
    "**Approach**:\n",
    "1. Initialize the current population to 10,000.\n",
    "2. Use a `for` loop to iterate over the range of 10 years.\n",
    "3. In each iteration:\n",
    "   - Calculate the new population by increasing the current population by 10%.\n",
    "   - Print the population for the current year.\n",
    "   - Update the population for the next year.\n",
    "\n",
    "**Example**:\n",
    "- Start with an initial population of 10,000.\n",
    "- For each year, calculate:\n",
    "  - `current_population = current_population * 1.10`\n",
    "  - Print the updated population for that year.\n"
   ]
  },
  {
   "cell_type": "code",
   "execution_count": 84,
   "id": "fd758160-2909-4f3f-aa4d-1536bbfc40da",
   "metadata": {},
   "outputs": [
    {
     "name": "stdout",
     "output_type": "stream",
     "text": [
      "2024 population = 10000\n",
      "2023 population = 9090.90909090909\n",
      "2022 population = 8264.462809917353\n",
      "2021 population = 7513.148009015775\n",
      "2020 population = 6830.134553650703\n",
      "2019 population = 6209.213230591548\n",
      "2018 population = 5644.739300537771\n",
      "2017 population = 5131.5811823070635\n",
      "2016 population = 4665.07380209733\n",
      "2015 population = 4240.976183724845\n",
      "2014 population = 3855.4328942953134\n"
     ]
    }
   ],
   "source": [
    "# assuming 2024 population is 10000\n",
    "# need to print last 10 year population\n",
    "# if population was increasing with 10% per year\n",
    "\n",
    "# what is current population it is previous population + 10% of previous pop\n",
    "# pop + 10% pop = 10000\n",
    "# pop + 0.1 pop = 10000\n",
    "# 1.1 pop = 10000\n",
    "# pop = 10000/1.1\n",
    "\n",
    "current_population = 10000\n",
    "for i in range(2024,2013,-1):\n",
    "    print(i,'population','=',current_population)\n",
    "    current_population = current_population / 1.1"
   ]
  },
  {
   "cell_type": "markdown",
   "id": "f16d75bb-92ad-469f-95b8-218691d585be",
   "metadata": {},
   "source": [
    "#### task: calculate sum of the given sequence till nth term n value will be given by user\n",
    "1/1! + 2/2! + 3/3!+...+"
   ]
  },
  {
   "cell_type": "code",
   "execution_count": 92,
   "id": "f3aa7c99-36b5-4860-b704-6a5a9afc2efd",
   "metadata": {},
   "outputs": [
    {
     "name": "stdin",
     "output_type": "stream",
     "text": [
      "enter n: 4\n"
     ]
    },
    {
     "name": "stdout",
     "output_type": "stream",
     "text": [
      "2.6666666666666665\n"
     ]
    }
   ],
   "source": [
    "n = int(input('enter n:'))\n",
    "\n",
    "result = 0\n",
    "fact = 1\n",
    "\n",
    "for i in range(1,n+1):\n",
    "    fact = fact * i\n",
    "    result = result + i/fact\n",
    "    \n",
    "print(result)"
   ]
  },
  {
   "cell_type": "markdown",
   "id": "47c1e0b0-418e-44a6-99ae-b4ebb67691d3",
   "metadata": {},
   "source": [
    "### Nested Loops\n",
    "\n",
    "- Loops perform the same action repeatedly until a condition is satisfied.\n",
    "- A nested loop is a logical construct where one loop is placed inside another loop.\n",
    "\n",
    "**Task**: Program to generate pairs of elements from two lists.\n",
    "\n",
    "**Approach**:\n",
    "1. Use two lists, e.g., `list1` and `list2`.\n",
    "2. Use a `for` loop to iterate over the first list.\n",
    "3. Inside this loop, use another `for` loop to iterate over the second list.\n",
    "4. In each iteration of the inner loop, print or store the pair of elements from `list1` and `list2`.\n",
    "\n",
    "**Example**:\n",
    "- Given `list1 = [1, 2, 3]` and `list2 = ['a', 'b']`\n",
    "- The nested loop will produce pairs: `(1, 'a')`, `(1, 'b')`, `(2, 'a')`, `(2, 'b')`, `(3, 'a')`, `(3, 'b')`\n"
   ]
  },
  {
   "cell_type": "code",
   "execution_count": 93,
   "id": "22dc69ab-8150-4251-bbd7-6a6169481bf8",
   "metadata": {},
   "outputs": [
    {
     "name": "stdout",
     "output_type": "stream",
     "text": [
      "1 1\n",
      "1 2\n",
      "1 3\n",
      "2 1\n",
      "2 2\n",
      "2 3\n",
      "3 1\n",
      "3 2\n",
      "3 3\n"
     ]
    }
   ],
   "source": [
    " for i in range(1,4):\n",
    "        for j in range(1,4):\n",
    "            print(i,j)"
   ]
  },
  {
   "cell_type": "markdown",
   "id": "17a273b0-bb6a-476e-ab2b-fc391121d413",
   "metadata": {},
   "source": [
    "### Task: Print Pattern\n",
    "\n",
    "**Objective**:\n",
    "Print a pattern of asterisks (`*`) where the number of asterisks in each row equals the row number.\n",
    "\n",
    "\n",
    "**Logic**:\n",
    "1. **Input**: Ask the user for the number of rows.\n",
    "2. **Outer Loop**: Iterate from `1` to the number of rows (inclusive). This will handle the number of rows.\n",
    "3. **Inner Loop**: For each row, print the asterisks. The number of asterisks in each row should be equal to the row number.\n",
    "4. **Print**: In each iteration of the inner loop, print an asterisk without a newline. After finishing each row, print a newline.\n",
    "\n",
    "**Steps**:\n",
    "1. Get the number of rows from the user.\n",
    "2. Use an outer loop to handle the number of rows.\n",
    "3. Inside the outer loop, use an inner loop to print the correct number of asterisks for the current row.\n",
    "4. Print a newline after each row is completed.\n",
    "\n",
    "**Example**:\n",
    "- For `num_rows = 3`, the output will be:\n",
    "    *\n",
    "    **"
   ]
  },
  {
   "cell_type": "code",
   "execution_count": 99,
   "id": "cc50ad9d-b451-4d74-8323-b10416b7bfed",
   "metadata": {},
   "outputs": [
    {
     "name": "stdin",
     "output_type": "stream",
     "text": [
      "enter no of rows 5\n"
     ]
    },
    {
     "name": "stdout",
     "output_type": "stream",
     "text": [
      "*\n",
      "**\n",
      "***\n",
      "****\n",
      "*****\n"
     ]
    }
   ],
   "source": [
    "rows = int(input('enter no of rows'))\n",
    "\n",
    "for i in range(1, rows+1):\n",
    "    for j in range(1,i+1):\n",
    "        print('*', end='')\n",
    "    print()\n",
    "           "
   ]
  },
  {
   "cell_type": "markdown",
   "id": "946938f3-4d0b-42ed-9df3-9c5c9710b8ab",
   "metadata": {},
   "source": [
    "#### task: pattern print no\n",
    "\n",
    "- 1\n",
    "- 121\n",
    "- 12321\n",
    "- 1234321"
   ]
  },
  {
   "cell_type": "code",
   "execution_count": 108,
   "id": "c05f7f0b-79f5-41ce-8a92-33b5cb015af3",
   "metadata": {},
   "outputs": [
    {
     "name": "stdout",
     "output_type": "stream",
     "text": [
      "enter no of rows:\n"
     ]
    },
    {
     "name": "stdin",
     "output_type": "stream",
     "text": [
      "None 4\n"
     ]
    },
    {
     "name": "stdout",
     "output_type": "stream",
     "text": [
      "1\n",
      "12\n",
      "123\n",
      "1234\n"
     ]
    }
   ],
   "source": [
    "rows = int(input(print('enter no of rows:')))\n",
    "\n",
    "value = 0\n",
    "for i in range(1, rows+1):\n",
    "    for j in range(1, i + 1):\n",
    "        print(j,end='')\n",
    "    print()\n",
    "        "
   ]
  },
  {
   "cell_type": "markdown",
   "id": "2ad2295a-2281-420e-8f33-9f3603ba2a03",
   "metadata": {},
   "source": [
    "- Basically, we want an output where, when we reach a number, it decreases from that number down to 1.\n",
    "- So, when we use a positive loop to increase, we will use a reverse or negative loop to decrease.\n",
    "- This loop will be inside `i`, but not inside `j`.\n"
   ]
  },
  {
   "cell_type": "code",
   "execution_count": 112,
   "id": "e0c5a35b-2723-4e96-a02a-774b65769b1c",
   "metadata": {},
   "outputs": [
    {
     "name": "stdout",
     "output_type": "stream",
     "text": [
      "enter no of rows:\n"
     ]
    },
    {
     "name": "stdin",
     "output_type": "stream",
     "text": [
      "None 5\n"
     ]
    },
    {
     "name": "stdout",
     "output_type": "stream",
     "text": [
      "1\n",
      "121\n",
      "12321\n",
      "1234321\n",
      "123454321\n"
     ]
    }
   ],
   "source": [
    "rows = int(input(print('enter no of rows:')))\n",
    "\n",
    "for i in range(1, rows+1):\n",
    "    for j in range(1, i + 1):\n",
    "        print(j,end='')\n",
    "    for k in range(i-1,0,-1):\n",
    "        print(k,end='')\n",
    "    print()\n",
    "        "
   ]
  },
  {
   "cell_type": "markdown",
   "id": "8733c855-8c5c-40f7-a5ca-a339647255ba",
   "metadata": {},
   "source": [
    "### Loop Control Statements in Python\n",
    "\n",
    "In Python, loop control statements are used to manage the execution of loops. The three primary loop control statements are `break`, `continue`, and `pass`.\n",
    "\n",
    "- **`break`**: \n",
    "  - **Purpose**: Exits the loop entirely, regardless of the loop's condition.\n",
    "  - **Use Case**: When a certain condition is met, and you need to terminate the loop immediately.\n",
    "\n",
    "- **`continue`**: \n",
    "  - **Purpose**: Skips the current iteration and continues with the next iteration of the loop.\n",
    "  - **Use Case**: When you want to skip over certain parts of the loop for specific conditions but continue looping through the remaining iterations.\n",
    "\n",
    "- **`pass`**: \n",
    "  - **Purpose**: A placeholder that tells the Python interpreter to do nothing. It allows the loop to continue without any code execution.\n",
    "  - **Use Case**: When you need to write code but want to avoid syntax errors or need to leave a block of code empty temporarily.\n"
   ]
  },
  {
   "cell_type": "code",
   "execution_count": 113,
   "id": "3f04da41-8a7f-46f7-a54d-0af55ac965ec",
   "metadata": {},
   "outputs": [
    {
     "name": "stdout",
     "output_type": "stream",
     "text": [
      "1\n",
      "2\n",
      "3\n",
      "4\n"
     ]
    }
   ],
   "source": [
    "for i in range(1,10):\n",
    "    if i==5:\n",
    "        break\n",
    "    print(i)"
   ]
  },
  {
   "cell_type": "markdown",
   "id": "d88bf355-2565-4858-bcc2-dbe0e6dbb575",
   "metadata": {},
   "source": [
    "#### task: user will give a range we need to find prime no in that range"
   ]
  },
  {
   "cell_type": "code",
   "execution_count": 121,
   "id": "b57f100e-9f1d-4c28-b392-b68729f74432",
   "metadata": {},
   "outputs": [
    {
     "name": "stdin",
     "output_type": "stream",
     "text": [
      "enter lower range 10\n",
      "enter upper range 20\n"
     ]
    },
    {
     "name": "stdout",
     "output_type": "stream",
     "text": [
      "11\n",
      "13\n",
      "17\n",
      "19\n"
     ]
    }
   ],
   "source": [
    "lower = int(input('enter lower range'))\n",
    "upper = int(input('enter upper range'))\n",
    "\n",
    "for i in range(lower, upper+1):\n",
    "    for j in range(2, i):\n",
    "        if i%j == 0:\n",
    "            break\n",
    "    else:\n",
    "        print(i)"
   ]
  },
  {
   "cell_type": "code",
   "execution_count": 122,
   "id": "c87a7270-bbcf-4869-858a-d783eecede37",
   "metadata": {},
   "outputs": [
    {
     "name": "stdout",
     "output_type": "stream",
     "text": [
      "1\n",
      "2\n",
      "3\n",
      "4\n",
      "6\n",
      "7\n",
      "8\n",
      "9\n"
     ]
    }
   ],
   "source": [
    "# continue\n",
    "\n",
    "for i in range(1,10):\n",
    "    if i == 5:\n",
    "        continue\n",
    "    print(i)"
   ]
  },
  {
   "cell_type": "code",
   "execution_count": 123,
   "id": "f9390f8b-616a-4672-992f-5c717f0ded1e",
   "metadata": {},
   "outputs": [],
   "source": [
    "for i in range(1,10):\n",
    "    pass"
   ]
  },
  {
   "cell_type": "code",
   "execution_count": null,
   "id": "a6a5dd07-8698-415c-b16c-c747b44bf9e8",
   "metadata": {},
   "outputs": [],
   "source": []
  }
 ],
 "metadata": {
  "kernelspec": {
   "display_name": "Python 3 (ipykernel)",
   "language": "python",
   "name": "python3"
  },
  "language_info": {
   "codemirror_mode": {
    "name": "ipython",
    "version": 3
   },
   "file_extension": ".py",
   "mimetype": "text/x-python",
   "name": "python",
   "nbconvert_exporter": "python",
   "pygments_lexer": "ipython3",
   "version": "3.10.9"
  }
 },
 "nbformat": 4,
 "nbformat_minor": 5
}
